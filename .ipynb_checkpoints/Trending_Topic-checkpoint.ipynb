{
 "cells": [
  {
   "cell_type": "code",
   "execution_count": 24,
   "id": "49bd51e1",
   "metadata": {},
   "outputs": [],
   "source": [
    "import os\n",
    "\n",
    "topic_file = os.getenv(\"TOPIC_PATH\")\n",
    "users_file = os.getenv(\"USERS_PATH\")\n",
    "ratings_file = os.getenv(\"RATINGS_PATH\")\n",
    "\n",
    "#topic_file = \"/data/books_data/books.csv\"\n",
    "#users_file = \"/data/books_data/users.csv\"\n",
    "#ratings_file = \"/data/books_data/rating.csv\""
   ]
  },
  {
   "cell_type": "code",
   "execution_count": 25,
   "id": "2792a115",
   "metadata": {},
   "outputs": [],
   "source": [
    "import pandas as pd\n",
    "topics = pd.read_csv(topic_file)"
   ]
  },
  {
   "cell_type": "code",
   "execution_count": 26,
   "id": "9a3d0260-2906-41d3-880d-58ac7535d619",
   "metadata": {},
   "outputs": [],
   "source": [
    "topics[\"ID\"] = pd.to_numeric(topics[\"ID\"], errors='coerce')"
   ]
  },
  {
   "cell_type": "code",
   "execution_count": 27,
   "id": "a5b2ddbd-b7b7-46d3-b9df-bfbf2c52c3d4",
   "metadata": {},
   "outputs": [
    {
     "data": {
      "text/html": [
       "<div>\n",
       "<style scoped>\n",
       "    .dataframe tbody tr th:only-of-type {\n",
       "        vertical-align: middle;\n",
       "    }\n",
       "\n",
       "    .dataframe tbody tr th {\n",
       "        vertical-align: top;\n",
       "    }\n",
       "\n",
       "    .dataframe thead th {\n",
       "        text-align: right;\n",
       "    }\n",
       "</style>\n",
       "<table border=\"1\" class=\"dataframe\">\n",
       "  <thead>\n",
       "    <tr style=\"text-align: right;\">\n",
       "      <th></th>\n",
       "      <th>ID</th>\n",
       "      <th>NAME</th>\n",
       "      <th>CATEGORY</th>\n",
       "    </tr>\n",
       "  </thead>\n",
       "  <tbody>\n",
       "    <tr>\n",
       "      <th>0</th>\n",
       "      <td>1</td>\n",
       "      <td>Decision in Normandy</td>\n",
       "      <td>Carlo D'Este</td>\n",
       "    </tr>\n",
       "    <tr>\n",
       "      <th>1</th>\n",
       "      <td>3</td>\n",
       "      <td>What If?: The World's Foremost Military Histor...</td>\n",
       "      <td>Robert Cowley</td>\n",
       "    </tr>\n",
       "    <tr>\n",
       "      <th>2</th>\n",
       "      <td>4</td>\n",
       "      <td>Beloved (Plume Contemporary Fiction)</td>\n",
       "      <td>Toni Morrison</td>\n",
       "    </tr>\n",
       "    <tr>\n",
       "      <th>3</th>\n",
       "      <td>5</td>\n",
       "      <td>Our Dumb Century: The Onion Presents 100 Years...</td>\n",
       "      <td>The Onion</td>\n",
       "    </tr>\n",
       "    <tr>\n",
       "      <th>4</th>\n",
       "      <td>7</td>\n",
       "      <td>If I'd Known Then What I Know Now: Why Not Lea...</td>\n",
       "      <td>J. R. Parrish</td>\n",
       "    </tr>\n",
       "  </tbody>\n",
       "</table>\n",
       "</div>"
      ],
      "text/plain": [
       "   ID                                               NAME       CATEGORY\n",
       "0   1                               Decision in Normandy   Carlo D'Este\n",
       "1   3  What If?: The World's Foremost Military Histor...  Robert Cowley\n",
       "2   4               Beloved (Plume Contemporary Fiction)  Toni Morrison\n",
       "3   5  Our Dumb Century: The Onion Presents 100 Years...      The Onion\n",
       "4   7  If I'd Known Then What I Know Now: Why Not Lea...  J. R. Parrish"
      ]
     },
     "execution_count": 27,
     "metadata": {},
     "output_type": "execute_result"
    }
   ],
   "source": [
    "topics.head()"
   ]
  },
  {
   "cell_type": "code",
   "execution_count": 28,
   "id": "04fd88da-b513-417c-a9cb-188c48acb975",
   "metadata": {},
   "outputs": [
    {
     "data": {
      "text/html": [
       "<div>\n",
       "<style scoped>\n",
       "    .dataframe tbody tr th:only-of-type {\n",
       "        vertical-align: middle;\n",
       "    }\n",
       "\n",
       "    .dataframe tbody tr th {\n",
       "        vertical-align: top;\n",
       "    }\n",
       "\n",
       "    .dataframe thead th {\n",
       "        text-align: right;\n",
       "    }\n",
       "</style>\n",
       "<table border=\"1\" class=\"dataframe\">\n",
       "  <thead>\n",
       "    <tr style=\"text-align: right;\">\n",
       "      <th></th>\n",
       "      <th>UserID</th>\n",
       "      <th>MovieID</th>\n",
       "      <th>Rating</th>\n",
       "    </tr>\n",
       "  </thead>\n",
       "  <tbody>\n",
       "    <tr>\n",
       "      <th>0</th>\n",
       "      <td>1</td>\n",
       "      <td>6264</td>\n",
       "      <td>7.0</td>\n",
       "    </tr>\n",
       "    <tr>\n",
       "      <th>1</th>\n",
       "      <td>1</td>\n",
       "      <td>4350</td>\n",
       "      <td>7.0</td>\n",
       "    </tr>\n",
       "    <tr>\n",
       "      <th>2</th>\n",
       "      <td>1</td>\n",
       "      <td>6252</td>\n",
       "      <td>5.0</td>\n",
       "    </tr>\n",
       "    <tr>\n",
       "      <th>3</th>\n",
       "      <td>1</td>\n",
       "      <td>202</td>\n",
       "      <td>9.0</td>\n",
       "    </tr>\n",
       "    <tr>\n",
       "      <th>4</th>\n",
       "      <td>1</td>\n",
       "      <td>6266</td>\n",
       "      <td>6.0</td>\n",
       "    </tr>\n",
       "  </tbody>\n",
       "</table>\n",
       "</div>"
      ],
      "text/plain": [
       "   UserID  MovieID  Rating\n",
       "0       1     6264     7.0\n",
       "1       1     4350     7.0\n",
       "2       1     6252     5.0\n",
       "3       1      202     9.0\n",
       "4       1     6266     6.0"
      ]
     },
     "execution_count": 28,
     "metadata": {},
     "output_type": "execute_result"
    }
   ],
   "source": [
    "ratings = pd.read_csv(ratings_file)\n",
    "ratings.head()"
   ]
  },
  {
   "cell_type": "code",
   "execution_count": 29,
   "id": "32cee1e3-b466-4914-b05b-48ec6f6acf71",
   "metadata": {},
   "outputs": [
    {
     "data": {
      "text/html": [
       "<div>\n",
       "<style scoped>\n",
       "    .dataframe tbody tr th:only-of-type {\n",
       "        vertical-align: middle;\n",
       "    }\n",
       "\n",
       "    .dataframe tbody tr th {\n",
       "        vertical-align: top;\n",
       "    }\n",
       "\n",
       "    .dataframe thead th {\n",
       "        text-align: right;\n",
       "    }\n",
       "</style>\n",
       "<table border=\"1\" class=\"dataframe\">\n",
       "  <thead>\n",
       "    <tr style=\"text-align: right;\">\n",
       "      <th></th>\n",
       "      <th>Gender</th>\n",
       "      <th>Age</th>\n",
       "      <th>UserID</th>\n",
       "    </tr>\n",
       "  </thead>\n",
       "  <tbody>\n",
       "    <tr>\n",
       "      <th>0</th>\n",
       "      <td>minneapolis, minnesota, usa</td>\n",
       "      <td>24</td>\n",
       "      <td>1</td>\n",
       "    </tr>\n",
       "    <tr>\n",
       "      <th>1</th>\n",
       "      <td>san diego, california, usa</td>\n",
       "      <td>20</td>\n",
       "      <td>2</td>\n",
       "    </tr>\n",
       "    <tr>\n",
       "      <th>2</th>\n",
       "      <td>novinger, missouri, usa</td>\n",
       "      <td>16</td>\n",
       "      <td>3</td>\n",
       "    </tr>\n",
       "    <tr>\n",
       "      <th>3</th>\n",
       "      <td>sonoma, california, usa</td>\n",
       "      <td>34</td>\n",
       "      <td>4</td>\n",
       "    </tr>\n",
       "    <tr>\n",
       "      <th>4</th>\n",
       "      <td>berkeley, california, usa</td>\n",
       "      <td>23</td>\n",
       "      <td>5</td>\n",
       "    </tr>\n",
       "  </tbody>\n",
       "</table>\n",
       "</div>"
      ],
      "text/plain": [
       "                        Gender  Age  UserID\n",
       "0  minneapolis, minnesota, usa   24       1\n",
       "1   san diego, california, usa   20       2\n",
       "2      novinger, missouri, usa   16       3\n",
       "3      sonoma, california, usa   34       4\n",
       "4    berkeley, california, usa   23       5"
      ]
     },
     "execution_count": 29,
     "metadata": {},
     "output_type": "execute_result"
    }
   ],
   "source": [
    "users = pd.read_csv(users_file)\n",
    "users.head()"
   ]
  },
  {
   "cell_type": "code",
   "execution_count": 30,
   "id": "eca3d5f7-822c-4078-9472-4b6fa5857209",
   "metadata": {},
   "outputs": [],
   "source": [
    "user_rating = pd.merge(users,ratings,on='UserID')\n",
    "user_rating_mv = pd.merge(user_rating, topics, left_on=\"MovieID\", right_on=\"ID\") "
   ]
  },
  {
   "cell_type": "code",
   "execution_count": 31,
   "id": "450f6886-dad0-426a-a24f-9c37db33c96a",
   "metadata": {},
   "outputs": [
    {
     "data": {
      "text/html": [
       "<div>\n",
       "<style scoped>\n",
       "    .dataframe tbody tr th:only-of-type {\n",
       "        vertical-align: middle;\n",
       "    }\n",
       "\n",
       "    .dataframe tbody tr th {\n",
       "        vertical-align: top;\n",
       "    }\n",
       "\n",
       "    .dataframe thead th {\n",
       "        text-align: right;\n",
       "    }\n",
       "</style>\n",
       "<table border=\"1\" class=\"dataframe\">\n",
       "  <thead>\n",
       "    <tr style=\"text-align: right;\">\n",
       "      <th></th>\n",
       "      <th>Gender</th>\n",
       "      <th>Age</th>\n",
       "      <th>UserID</th>\n",
       "      <th>MovieID</th>\n",
       "      <th>Rating</th>\n",
       "      <th>ID</th>\n",
       "      <th>NAME</th>\n",
       "      <th>CATEGORY</th>\n",
       "    </tr>\n",
       "  </thead>\n",
       "  <tbody>\n",
       "    <tr>\n",
       "      <th>0</th>\n",
       "      <td>minneapolis, minnesota, usa</td>\n",
       "      <td>24</td>\n",
       "      <td>1</td>\n",
       "      <td>6264</td>\n",
       "      <td>7.0</td>\n",
       "      <td>6264</td>\n",
       "      <td>Something Wicked This Way Comes</td>\n",
       "      <td>Ray Bradbury</td>\n",
       "    </tr>\n",
       "    <tr>\n",
       "      <th>1</th>\n",
       "      <td>west fairlee, vermont, usa</td>\n",
       "      <td>43</td>\n",
       "      <td>496</td>\n",
       "      <td>6264</td>\n",
       "      <td>8.0</td>\n",
       "      <td>6264</td>\n",
       "      <td>Something Wicked This Way Comes</td>\n",
       "      <td>Ray Bradbury</td>\n",
       "    </tr>\n",
       "    <tr>\n",
       "      <th>2</th>\n",
       "      <td>mililani, hawaii, usa</td>\n",
       "      <td>46</td>\n",
       "      <td>676</td>\n",
       "      <td>6264</td>\n",
       "      <td>10.0</td>\n",
       "      <td>6264</td>\n",
       "      <td>Something Wicked This Way Comes</td>\n",
       "      <td>Ray Bradbury</td>\n",
       "    </tr>\n",
       "    <tr>\n",
       "      <th>3</th>\n",
       "      <td>hamilton, ohio, usa</td>\n",
       "      <td>36</td>\n",
       "      <td>1842</td>\n",
       "      <td>6264</td>\n",
       "      <td>10.0</td>\n",
       "      <td>6264</td>\n",
       "      <td>Something Wicked This Way Comes</td>\n",
       "      <td>Ray Bradbury</td>\n",
       "    </tr>\n",
       "    <tr>\n",
       "      <th>4</th>\n",
       "      <td>minneapolis, minnesota, usa</td>\n",
       "      <td>24</td>\n",
       "      <td>1</td>\n",
       "      <td>4350</td>\n",
       "      <td>7.0</td>\n",
       "      <td>4350</td>\n",
       "      <td>The Mists of Avalon</td>\n",
       "      <td>MARION ZIMMER BRADLEY</td>\n",
       "    </tr>\n",
       "    <tr>\n",
       "      <th>...</th>\n",
       "      <td>...</td>\n",
       "      <td>...</td>\n",
       "      <td>...</td>\n",
       "      <td>...</td>\n",
       "      <td>...</td>\n",
       "      <td>...</td>\n",
       "      <td>...</td>\n",
       "      <td>...</td>\n",
       "    </tr>\n",
       "    <tr>\n",
       "      <th>59455</th>\n",
       "      <td>lake george, new york, usa</td>\n",
       "      <td>34</td>\n",
       "      <td>2945</td>\n",
       "      <td>16981</td>\n",
       "      <td>7.0</td>\n",
       "      <td>16981</td>\n",
       "      <td>Jessi Ramsey, Pet Sitter (Baby-Sitters Club (P...</td>\n",
       "      <td>Ann M. Martin</td>\n",
       "    </tr>\n",
       "    <tr>\n",
       "      <th>59456</th>\n",
       "      <td>lake george, new york, usa</td>\n",
       "      <td>34</td>\n",
       "      <td>2945</td>\n",
       "      <td>14501</td>\n",
       "      <td>7.0</td>\n",
       "      <td>14501</td>\n",
       "      <td>STAY AWAY FROM THE TREEHOUSE (GHOSTS OF FEAR S...</td>\n",
       "      <td>R.L. Stine</td>\n",
       "    </tr>\n",
       "    <tr>\n",
       "      <th>59457</th>\n",
       "      <td>lake george, new york, usa</td>\n",
       "      <td>34</td>\n",
       "      <td>2945</td>\n",
       "      <td>3490</td>\n",
       "      <td>8.0</td>\n",
       "      <td>3490</td>\n",
       "      <td>Bright Eyes (Coulter Family Series)</td>\n",
       "      <td>Catherine Anderson</td>\n",
       "    </tr>\n",
       "    <tr>\n",
       "      <th>59458</th>\n",
       "      <td>lake george, new york, usa</td>\n",
       "      <td>34</td>\n",
       "      <td>2945</td>\n",
       "      <td>15719</td>\n",
       "      <td>8.0</td>\n",
       "      <td>15719</td>\n",
       "      <td>Arcadia</td>\n",
       "      <td>Jim Crace</td>\n",
       "    </tr>\n",
       "    <tr>\n",
       "      <th>59459</th>\n",
       "      <td>lake george, new york, usa</td>\n",
       "      <td>34</td>\n",
       "      <td>2945</td>\n",
       "      <td>8515</td>\n",
       "      <td>9.0</td>\n",
       "      <td>8515</td>\n",
       "      <td>MR CLEMENS TWAIN P (Touchstone Books (Paperback))</td>\n",
       "      <td>Justin Kaplan</td>\n",
       "    </tr>\n",
       "  </tbody>\n",
       "</table>\n",
       "<p>59460 rows × 8 columns</p>\n",
       "</div>"
      ],
      "text/plain": [
       "                            Gender  Age  UserID  MovieID  Rating     ID  \\\n",
       "0      minneapolis, minnesota, usa   24       1     6264     7.0   6264   \n",
       "1       west fairlee, vermont, usa   43     496     6264     8.0   6264   \n",
       "2            mililani, hawaii, usa   46     676     6264    10.0   6264   \n",
       "3              hamilton, ohio, usa   36    1842     6264    10.0   6264   \n",
       "4      minneapolis, minnesota, usa   24       1     4350     7.0   4350   \n",
       "...                            ...  ...     ...      ...     ...    ...   \n",
       "59455   lake george, new york, usa   34    2945    16981     7.0  16981   \n",
       "59456   lake george, new york, usa   34    2945    14501     7.0  14501   \n",
       "59457   lake george, new york, usa   34    2945     3490     8.0   3490   \n",
       "59458   lake george, new york, usa   34    2945    15719     8.0  15719   \n",
       "59459   lake george, new york, usa   34    2945     8515     9.0   8515   \n",
       "\n",
       "                                                    NAME  \\\n",
       "0                        Something Wicked This Way Comes   \n",
       "1                        Something Wicked This Way Comes   \n",
       "2                        Something Wicked This Way Comes   \n",
       "3                        Something Wicked This Way Comes   \n",
       "4                                    The Mists of Avalon   \n",
       "...                                                  ...   \n",
       "59455  Jessi Ramsey, Pet Sitter (Baby-Sitters Club (P...   \n",
       "59456  STAY AWAY FROM THE TREEHOUSE (GHOSTS OF FEAR S...   \n",
       "59457                Bright Eyes (Coulter Family Series)   \n",
       "59458                                            Arcadia   \n",
       "59459  MR CLEMENS TWAIN P (Touchstone Books (Paperback))   \n",
       "\n",
       "                    CATEGORY  \n",
       "0               Ray Bradbury  \n",
       "1               Ray Bradbury  \n",
       "2               Ray Bradbury  \n",
       "3               Ray Bradbury  \n",
       "4      MARION ZIMMER BRADLEY  \n",
       "...                      ...  \n",
       "59455          Ann M. Martin  \n",
       "59456             R.L. Stine  \n",
       "59457     Catherine Anderson  \n",
       "59458              Jim Crace  \n",
       "59459          Justin Kaplan  \n",
       "\n",
       "[59460 rows x 8 columns]"
      ]
     },
     "execution_count": 31,
     "metadata": {},
     "output_type": "execute_result"
    }
   ],
   "source": [
    "user_rating_mv"
   ]
  },
  {
   "cell_type": "code",
   "execution_count": 32,
   "id": "2c9c4e18-b37d-4c18-b94f-89f9175b713e",
   "metadata": {},
   "outputs": [],
   "source": [
    "#df = pd.DataFrame().reset_index()\n",
    "\n",
    "top_movies = user_rating_mv[['UserID','Gender','Age', 'NAME']].groupby(['Gender','Age','NAME']).count().reset_index()"
   ]
  },
  {
   "cell_type": "code",
   "execution_count": 33,
   "id": "9ddd05f7-c7d9-42df-86e1-27ccbfab1804",
   "metadata": {},
   "outputs": [
    {
     "data": {
      "text/plain": [
       "Series([], Name: NAME, dtype: object)"
      ]
     },
     "execution_count": 33,
     "metadata": {},
     "output_type": "execute_result"
    }
   ],
   "source": [
    "df1 = top_movies.query('Gender==\"M\" & Age==\"25\"').sort_values('UserID', ascending=False)\n",
    "df1['NAME'].head(10)"
   ]
  },
  {
   "cell_type": "code",
   "execution_count": 34,
   "id": "30f71bc2-f3f0-4f0a-85d7-21c6ad780077",
   "metadata": {},
   "outputs": [],
   "source": [
    "def fetch_top_movies(age, gender):\n",
    "    global top_movies\n",
    "    qry = 'Gender==\"'+gender+'\" & Age==\"'+age+'\"'\n",
    "    df1 = top_movies.query(qry).sort_values('UserID', ascending=False)\n",
    "    return df1.head(10).NAME.to_list()"
   ]
  },
  {
   "cell_type": "code",
   "execution_count": 37,
   "id": "93e267dc-ba99-4fe4-959b-a0d3c4e0f192",
   "metadata": {
    "tags": []
   },
   "outputs": [
    {
     "name": "stdout",
     "output_type": "stream",
     "text": [
      "['A Coral Kiss', \"An Arrow's Flight\", 'What a Wonderful World: A Lifetime of Recordings', 'To Marry McAllister  (Bachelor Cousins) (Harlequin Presents, No. 2273)', 'The Subtle Knife (His Dark Materials, Book 2)', 'The Mists of Avalon', 'The 10th Kingdom (Hallmark Entertainment Books)', 'Something Wicked This Way Comes', 'Silverlight: The Arcana, Book II (Arcana/Morgan Llywelyn, Bk 2)', 'Sideways Stories from Wayside School']\n"
     ]
    }
   ],
   "source": [
    "print(fetch_top_movies('24','minneapolis, minnesota, usa'))"
   ]
  },
  {
   "cell_type": "code",
   "execution_count": 12,
   "id": "c82add48-4c18-409d-8db8-533b6ad0d2a1",
   "metadata": {},
   "outputs": [
    {
     "name": "stderr",
     "output_type": "stream",
     "text": [
      "/opt/conda/lib/python3.7/site-packages/_distutils_hack/__init__.py:33: UserWarning: Setuptools is replacing distutils.\n",
      "  warnings.warn(\"Setuptools is replacing distutils.\")\n"
     ]
    }
   ],
   "source": [
    "from mosaicml import *\n",
    "from mosaicml.constants import MLModelFlavours\n",
    "import numpy\n",
    "import pandas as pd\n",
    "\n",
    "@scoring_func\n",
    "def score(model, request):\n",
    "    payload = request.json[\"payload\"]\n",
    "    print(payload)     \n",
    "    global top_movies\n",
    "    qry = 'Gender==\"'+payload[\"gender\"]+'\" & Age==\"'+payload[\"age\"]+'\"'\n",
    "    df1 = top_movies.query(qry).sort_values('UserID', ascending=False)\n",
    "    return df1.head(10).NAME.to_list()\n",
    "    return prediction.tolist()"
   ]
  },
  {
   "cell_type": "code",
   "execution_count": 13,
   "id": "00248efa-b9d0-4b5c-8e12-3cc564305a0b",
   "metadata": {},
   "outputs": [
    {
     "data": {
      "application/vnd.jupyter.widget-view+json": {
       "model_id": "d584ccbb9e69403fafd2102a04104348",
       "version_major": 2,
       "version_minor": 0
      },
      "text/plain": [
       "VBox(children=(HTML(value='<style>.grad_1{background: #2468a4;} .grad_2{ color:white; background: #2468a4;}</s…"
      ]
     },
     "metadata": {},
     "output_type": "display_data"
    }
   ],
   "source": [
    "modl_ob = register_model(None, score, name=\"Trending_Topic\", \n",
    "                    description=\"Trending topics\",\n",
    "                    flavour=MLModelFlavours.sklearn)"
   ]
  },
  {
   "cell_type": "code",
   "execution_count": 17,
   "id": "505871b2-5b92-491c-b04e-4fc72086ec39",
   "metadata": {},
   "outputs": [
    {
     "name": "stdout",
     "output_type": "stream",
     "text": [
      "None\n"
     ]
    }
   ],
   "source": [
    "print(modl_ob)"
   ]
  },
  {
   "cell_type": "code",
   "execution_count": null,
   "id": "bed8fe9a-6ab8-4618-b039-3125bb6ca37b",
   "metadata": {},
   "outputs": [],
   "source": []
  }
 ],
 "metadata": {
  "kernelspec": {
   "display_name": "Python 3",
   "language": "python",
   "name": "python3"
  },
  "language_info": {
   "codemirror_mode": {
    "name": "ipython",
    "version": 3
   },
   "file_extension": ".py",
   "mimetype": "text/x-python",
   "name": "python",
   "nbconvert_exporter": "python",
   "pygments_lexer": "ipython3",
   "version": "3.7.12"
  }
 },
 "nbformat": 4,
 "nbformat_minor": 5
}
