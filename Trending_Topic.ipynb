{
 "cells": [
  {
   "cell_type": "code",
   "execution_count": 1,
   "id": "49bd51e1",
   "metadata": {},
   "outputs": [],
   "source": [
    "import os\n",
    "\n",
    "# topic_file = os.getenv(\"TOPIC_PATH\")\n",
    "# users_file = os.getenv(\"USERS_PATH\")\n",
    "# ratings_file = os.getenv(\"RATINGS_PATH\")\n",
    "\n",
    "#topic_file = \"/data/books_data/books.csv\"\n",
    "#users_file = \"/data/books_data/users.csv\"\n",
    "#ratings_file = \"/data/books_data/rating.csv\""
   ]
  },
  {
   "cell_type": "code",
   "execution_count": 2,
   "id": "2792a115",
   "metadata": {},
   "outputs": [
    {
     "ename": "ValueError",
     "evalue": "Invalid file path or buffer object type: <class 'NoneType'>",
     "output_type": "error",
     "traceback": [
      "\u001b[0;31m---------------------------------------------------------------------------\u001b[0m",
      "\u001b[0;31mValueError\u001b[0m                                Traceback (most recent call last)",
      "\u001b[0;32m<ipython-input-2-64cbba866ecc>\u001b[0m in \u001b[0;36m<module>\u001b[0;34m\u001b[0m\n\u001b[1;32m      1\u001b[0m \u001b[0;32mimport\u001b[0m \u001b[0mpandas\u001b[0m \u001b[0;32mas\u001b[0m \u001b[0mpd\u001b[0m\u001b[0;34m\u001b[0m\u001b[0;34m\u001b[0m\u001b[0m\n\u001b[0;32m----> 2\u001b[0;31m \u001b[0mtopics\u001b[0m \u001b[0;34m=\u001b[0m \u001b[0mpd\u001b[0m\u001b[0;34m.\u001b[0m\u001b[0mread_csv\u001b[0m\u001b[0;34m(\u001b[0m\u001b[0mtopic_file\u001b[0m\u001b[0;34m)\u001b[0m\u001b[0;34m\u001b[0m\u001b[0;34m\u001b[0m\u001b[0m\n\u001b[0m",
      "\u001b[0;32m/opt/conda/lib/python3.6/site-packages/pandas/io/parsers.py\u001b[0m in \u001b[0;36mparser_f\u001b[0;34m(filepath_or_buffer, sep, delimiter, header, names, index_col, usecols, squeeze, prefix, mangle_dupe_cols, dtype, engine, converters, true_values, false_values, skipinitialspace, skiprows, skipfooter, nrows, na_values, keep_default_na, na_filter, verbose, skip_blank_lines, parse_dates, infer_datetime_format, keep_date_col, date_parser, dayfirst, cache_dates, iterator, chunksize, compression, thousands, decimal, lineterminator, quotechar, quoting, doublequote, escapechar, comment, encoding, dialect, error_bad_lines, warn_bad_lines, delim_whitespace, low_memory, memory_map, float_precision)\u001b[0m\n\u001b[1;32m    674\u001b[0m         )\n\u001b[1;32m    675\u001b[0m \u001b[0;34m\u001b[0m\u001b[0m\n\u001b[0;32m--> 676\u001b[0;31m         \u001b[0;32mreturn\u001b[0m \u001b[0m_read\u001b[0m\u001b[0;34m(\u001b[0m\u001b[0mfilepath_or_buffer\u001b[0m\u001b[0;34m,\u001b[0m \u001b[0mkwds\u001b[0m\u001b[0;34m)\u001b[0m\u001b[0;34m\u001b[0m\u001b[0;34m\u001b[0m\u001b[0m\n\u001b[0m\u001b[1;32m    677\u001b[0m \u001b[0;34m\u001b[0m\u001b[0m\n\u001b[1;32m    678\u001b[0m     \u001b[0mparser_f\u001b[0m\u001b[0;34m.\u001b[0m\u001b[0m__name__\u001b[0m \u001b[0;34m=\u001b[0m \u001b[0mname\u001b[0m\u001b[0;34m\u001b[0m\u001b[0;34m\u001b[0m\u001b[0m\n",
      "\u001b[0;32m/opt/conda/lib/python3.6/site-packages/pandas/io/parsers.py\u001b[0m in \u001b[0;36m_read\u001b[0;34m(filepath_or_buffer, kwds)\u001b[0m\n\u001b[1;32m    429\u001b[0m     \u001b[0;31m# See https://github.com/python/mypy/issues/1297\u001b[0m\u001b[0;34m\u001b[0m\u001b[0;34m\u001b[0m\u001b[0;34m\u001b[0m\u001b[0m\n\u001b[1;32m    430\u001b[0m     fp_or_buf, _, compression, should_close = get_filepath_or_buffer(\n\u001b[0;32m--> 431\u001b[0;31m         \u001b[0mfilepath_or_buffer\u001b[0m\u001b[0;34m,\u001b[0m \u001b[0mencoding\u001b[0m\u001b[0;34m,\u001b[0m \u001b[0mcompression\u001b[0m\u001b[0;34m\u001b[0m\u001b[0;34m\u001b[0m\u001b[0m\n\u001b[0m\u001b[1;32m    432\u001b[0m     )\n\u001b[1;32m    433\u001b[0m     \u001b[0mkwds\u001b[0m\u001b[0;34m[\u001b[0m\u001b[0;34m\"compression\"\u001b[0m\u001b[0;34m]\u001b[0m \u001b[0;34m=\u001b[0m \u001b[0mcompression\u001b[0m\u001b[0;34m\u001b[0m\u001b[0;34m\u001b[0m\u001b[0m\n",
      "\u001b[0;32m/opt/conda/lib/python3.6/site-packages/pandas/io/common.py\u001b[0m in \u001b[0;36mget_filepath_or_buffer\u001b[0;34m(filepath_or_buffer, encoding, compression, mode)\u001b[0m\n\u001b[1;32m    225\u001b[0m     \u001b[0;32mif\u001b[0m \u001b[0;32mnot\u001b[0m \u001b[0mis_file_like\u001b[0m\u001b[0;34m(\u001b[0m\u001b[0mfilepath_or_buffer\u001b[0m\u001b[0;34m)\u001b[0m\u001b[0;34m:\u001b[0m\u001b[0;34m\u001b[0m\u001b[0;34m\u001b[0m\u001b[0m\n\u001b[1;32m    226\u001b[0m         \u001b[0mmsg\u001b[0m \u001b[0;34m=\u001b[0m \u001b[0;34mf\"Invalid file path or buffer object type: {type(filepath_or_buffer)}\"\u001b[0m\u001b[0;34m\u001b[0m\u001b[0;34m\u001b[0m\u001b[0m\n\u001b[0;32m--> 227\u001b[0;31m         \u001b[0;32mraise\u001b[0m \u001b[0mValueError\u001b[0m\u001b[0;34m(\u001b[0m\u001b[0mmsg\u001b[0m\u001b[0;34m)\u001b[0m\u001b[0;34m\u001b[0m\u001b[0;34m\u001b[0m\u001b[0m\n\u001b[0m\u001b[1;32m    228\u001b[0m \u001b[0;34m\u001b[0m\u001b[0m\n\u001b[1;32m    229\u001b[0m     \u001b[0;32mreturn\u001b[0m \u001b[0mfilepath_or_buffer\u001b[0m\u001b[0;34m,\u001b[0m \u001b[0;32mNone\u001b[0m\u001b[0;34m,\u001b[0m \u001b[0mcompression\u001b[0m\u001b[0;34m,\u001b[0m \u001b[0;32mFalse\u001b[0m\u001b[0;34m\u001b[0m\u001b[0;34m\u001b[0m\u001b[0m\n",
      "\u001b[0;31mValueError\u001b[0m: Invalid file path or buffer object type: <class 'NoneType'>"
     ]
    }
   ],
   "source": [
    "import pandas as pd\n",
    "topics = pd.read_csv(topic_file)"
   ]
  },
  {
   "cell_type": "code",
   "execution_count": null,
   "id": "9a3d0260-2906-41d3-880d-58ac7535d619",
   "metadata": {},
   "outputs": [],
   "source": [
    "topics[\"ID\"] = pd.to_numeric(topics[\"ID\"], errors='coerce')"
   ]
  },
  {
   "cell_type": "code",
   "execution_count": null,
   "id": "a5b2ddbd-b7b7-46d3-b9df-bfbf2c52c3d4",
   "metadata": {},
   "outputs": [],
   "source": [
    "topics.head()"
   ]
  },
  {
   "cell_type": "code",
   "execution_count": null,
   "id": "04fd88da-b513-417c-a9cb-188c48acb975",
   "metadata": {},
   "outputs": [],
   "source": [
    "ratings = pd.read_csv(ratings_file)\n",
    "ratings.head()"
   ]
  },
  {
   "cell_type": "code",
   "execution_count": null,
   "id": "32cee1e3-b466-4914-b05b-48ec6f6acf71",
   "metadata": {},
   "outputs": [],
   "source": [
    "users = pd.read_csv(users_file)\n",
    "users.head()"
   ]
  },
  {
   "cell_type": "code",
   "execution_count": null,
   "id": "eca3d5f7-822c-4078-9472-4b6fa5857209",
   "metadata": {},
   "outputs": [],
   "source": [
    "user_rating = pd.merge(users,ratings,on='UserID')\n",
    "user_rating_mv = pd.merge(user_rating, topics, left_on=\"MovieID\", right_on=\"ID\") "
   ]
  },
  {
   "cell_type": "code",
   "execution_count": null,
   "id": "450f6886-dad0-426a-a24f-9c37db33c96a",
   "metadata": {},
   "outputs": [],
   "source": [
    "user_rating_mv"
   ]
  },
  {
   "cell_type": "code",
   "execution_count": null,
   "id": "2c9c4e18-b37d-4c18-b94f-89f9175b713e",
   "metadata": {},
   "outputs": [],
   "source": [
    "#df = pd.DataFrame().reset_index()\n",
    "\n",
    "top_movies = user_rating_mv[['UserID','Gender','Age', 'NAME']].groupby(['Gender','Age','NAME']).count().reset_index()"
   ]
  },
  {
   "cell_type": "code",
   "execution_count": null,
   "id": "9ddd05f7-c7d9-42df-86e1-27ccbfab1804",
   "metadata": {},
   "outputs": [],
   "source": [
    "df1 = top_movies.query('Gender==\"M\" & Age==\"25\"').sort_values('UserID', ascending=False)\n",
    "df1['NAME'].head(10)"
   ]
  },
  {
   "cell_type": "code",
   "execution_count": null,
   "id": "30f71bc2-f3f0-4f0a-85d7-21c6ad780077",
   "metadata": {},
   "outputs": [],
   "source": [
    "def fetch_top_movies(age, gender):\n",
    "    global top_movies\n",
    "    qry = 'Gender==\"'+gender+'\" & Age==\"'+age+'\"'\n",
    "    df1 = top_movies.query(qry).sort_values('UserID', ascending=False)\n",
    "    return df1.head(10).NAME.to_list()"
   ]
  },
  {
   "cell_type": "code",
   "execution_count": null,
   "id": "93e267dc-ba99-4fe4-959b-a0d3c4e0f192",
   "metadata": {
    "tags": []
   },
   "outputs": [],
   "source": [
    "print(fetch_top_movies('25','F'))"
   ]
  },
  {
   "cell_type": "code",
   "execution_count": null,
   "id": "c82add48-4c18-409d-8db8-533b6ad0d2a1",
   "metadata": {},
   "outputs": [],
   "source": [
    "from mosaicml import *\n",
    "from mosaicml.constants import MLModelFlavours\n",
    "import numpy\n",
    "import pandas as pd\n",
    "\n",
    "@scoring_func\n",
    "def score(model, request):\n",
    "    payload = request.json[\"payload\"]\n",
    "    print(payload)     \n",
    "    global top_movies\n",
    "    qry = 'Gender==\"'+payload[\"gender\"]+'\" & Age==\"'+payload[\"age\"]+'\"'\n",
    "    df1 = top_movies.query(qry).sort_values('UserID', ascending=False)\n",
    "    return df1.head(10).NAME.to_list()\n",
    "    return prediction.tolist()"
   ]
  },
  {
   "cell_type": "code",
   "execution_count": null,
   "id": "00248efa-b9d0-4b5c-8e12-3cc564305a0b",
   "metadata": {},
   "outputs": [],
   "source": [
    "modl_ob = register_model(None, score, name=\"Trending_Topic\", \n",
    "                    description=\"Trending topics\",\n",
    "                    flavour=MLModelFlavours.sklearn,  pretty_output=False)"
   ]
  },
  {
   "cell_type": "code",
   "execution_count": null,
   "id": "505871b2-5b92-491c-b04e-4fc72086ec39",
   "metadata": {},
   "outputs": [],
   "source": [
    "model_id = modl_ob[\"id\"]\n",
    "version_id = modl_ob[\"versions\"][len(modl_ob[\"versions\"])-1][\"id\"]\n",
    "deploy_model(model_id, version_id, \"826500f6-cd56-4220-89ce-8e3370e81267\")"
   ]
  },
  {
   "cell_type": "code",
   "execution_count": null,
   "id": "bed8fe9a-6ab8-4618-b039-3125bb6ca37b",
   "metadata": {},
   "outputs": [],
   "source": []
  },
  {
   "cell_type": "code",
   "execution_count": null,
   "id": "224b2fb0-c7a9-47bd-97b3-005d7994eec0",
   "metadata": {},
   "outputs": [],
   "source": []
  },
  {
   "cell_type": "code",
   "execution_count": null,
   "id": "d0059d3e-0854-4902-a311-ab338f1d2ca3",
   "metadata": {},
   "outputs": [],
   "source": []
  }
 ],
 "metadata": {
  "kernelspec": {
   "display_name": "Python 3",
   "language": "python",
   "name": "python3"
  },
  "language_info": {
   "codemirror_mode": {
    "name": "ipython",
    "version": 3
   },
   "file_extension": ".py",
   "mimetype": "text/x-python",
   "name": "python",
   "nbconvert_exporter": "python",
   "pygments_lexer": "ipython3",
   "version": "3.7.12"
  }
 },
 "nbformat": 4,
 "nbformat_minor": 5
}
