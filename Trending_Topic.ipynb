{
 "cells": [
  {
   "cell_type": "code",
   "execution_count": 14,
   "id": "49bd51e1",
   "metadata": {},
   "outputs": [],
   "source": [
    "import os\n",
    "\n",
    "topic_file = os.getenv(\"TOPIC_PATH\")\n",
    "users_file = os.getenv(\"USERS_PATH\")\n",
    "ratings_file = os.getenv(\"RATINGS_PATH\")\n",
    "\n",
    "topic_file = \"/data/books_data/books.csv\"\n",
    "users_file = \"/data/books_data/users.csv\"\n",
    "ratings_file = \"/data/books_data/rating.csv\""
   ]
  },
  {
   "cell_type": "code",
   "execution_count": 16,
   "id": "2792a115",
   "metadata": {},
   "outputs": [],
   "source": [
    "import pandas as pd\n",
    "topics = pd.read_csv(topic_file)"
   ]
  },
  {
   "cell_type": "code",
   "execution_count": 18,
   "id": "9a3d0260-2906-41d3-880d-58ac7535d619",
   "metadata": {},
   "outputs": [],
   "source": [
    "topics[\"ID\"] = pd.to_numeric(topics[\"ID\"], errors='coerce')"
   ]
  },
  {
   "cell_type": "code",
   "execution_count": 19,
   "id": "a5b2ddbd-b7b7-46d3-b9df-bfbf2c52c3d4",
   "metadata": {},
   "outputs": [
    {
     "data": {
      "text/html": [
       "<div>\n",
       "<style scoped>\n",
       "    .dataframe tbody tr th:only-of-type {\n",
       "        vertical-align: middle;\n",
       "    }\n",
       "\n",
       "    .dataframe tbody tr th {\n",
       "        vertical-align: top;\n",
       "    }\n",
       "\n",
       "    .dataframe thead th {\n",
       "        text-align: right;\n",
       "    }\n",
       "</style>\n",
       "<table border=\"1\" class=\"dataframe\">\n",
       "  <thead>\n",
       "    <tr style=\"text-align: right;\">\n",
       "      <th></th>\n",
       "      <th>ID</th>\n",
       "      <th>NAME</th>\n",
       "      <th>CATEGORY</th>\n",
       "    </tr>\n",
       "  </thead>\n",
       "  <tbody>\n",
       "    <tr>\n",
       "      <th>0</th>\n",
       "      <td>6.097313e+07</td>\n",
       "      <td>Carlo D'Este</td>\n",
       "      <td>Decision in Normandy</td>\n",
       "    </tr>\n",
       "    <tr>\n",
       "      <th>1</th>\n",
       "      <td>4.251764e+08</td>\n",
       "      <td>Robert Cowley</td>\n",
       "      <td>What If?: The World's Foremost Military Histor...</td>\n",
       "    </tr>\n",
       "    <tr>\n",
       "      <th>2</th>\n",
       "      <td>4.522645e+08</td>\n",
       "      <td>Toni Morrison</td>\n",
       "      <td>Beloved (Plume Contemporary Fiction)</td>\n",
       "    </tr>\n",
       "    <tr>\n",
       "      <th>3</th>\n",
       "      <td>6.098046e+08</td>\n",
       "      <td>The Onion</td>\n",
       "      <td>Our Dumb Century: The Onion Presents 100 Years...</td>\n",
       "    </tr>\n",
       "    <tr>\n",
       "      <th>4</th>\n",
       "      <td>1.879384e+09</td>\n",
       "      <td>J. R. Parrish</td>\n",
       "      <td>If I'd Known Then What I Know Now: Why Not Lea...</td>\n",
       "    </tr>\n",
       "  </tbody>\n",
       "</table>\n",
       "</div>"
      ],
      "text/plain": [
       "             ID           NAME  \\\n",
       "0  6.097313e+07   Carlo D'Este   \n",
       "1  4.251764e+08  Robert Cowley   \n",
       "2  4.522645e+08  Toni Morrison   \n",
       "3  6.098046e+08      The Onion   \n",
       "4  1.879384e+09  J. R. Parrish   \n",
       "\n",
       "                                            CATEGORY  \n",
       "0                               Decision in Normandy  \n",
       "1  What If?: The World's Foremost Military Histor...  \n",
       "2               Beloved (Plume Contemporary Fiction)  \n",
       "3  Our Dumb Century: The Onion Presents 100 Years...  \n",
       "4  If I'd Known Then What I Know Now: Why Not Lea...  "
      ]
     },
     "execution_count": 19,
     "metadata": {},
     "output_type": "execute_result"
    }
   ],
   "source": [
    "topics.head()"
   ]
  },
  {
   "cell_type": "code",
   "execution_count": 20,
   "id": "04fd88da-b513-417c-a9cb-188c48acb975",
   "metadata": {},
   "outputs": [
    {
     "data": {
      "text/html": [
       "<div>\n",
       "<style scoped>\n",
       "    .dataframe tbody tr th:only-of-type {\n",
       "        vertical-align: middle;\n",
       "    }\n",
       "\n",
       "    .dataframe tbody tr th {\n",
       "        vertical-align: top;\n",
       "    }\n",
       "\n",
       "    .dataframe thead th {\n",
       "        text-align: right;\n",
       "    }\n",
       "</style>\n",
       "<table border=\"1\" class=\"dataframe\">\n",
       "  <thead>\n",
       "    <tr style=\"text-align: right;\">\n",
       "      <th></th>\n",
       "      <th>UserID</th>\n",
       "      <th>MovieID</th>\n",
       "      <th>Rating</th>\n",
       "    </tr>\n",
       "  </thead>\n",
       "  <tbody>\n",
       "    <tr>\n",
       "      <th>0</th>\n",
       "      <td>1</td>\n",
       "      <td>6264</td>\n",
       "      <td>7.0</td>\n",
       "    </tr>\n",
       "    <tr>\n",
       "      <th>1</th>\n",
       "      <td>1</td>\n",
       "      <td>4350</td>\n",
       "      <td>7.0</td>\n",
       "    </tr>\n",
       "    <tr>\n",
       "      <th>2</th>\n",
       "      <td>1</td>\n",
       "      <td>6252</td>\n",
       "      <td>5.0</td>\n",
       "    </tr>\n",
       "    <tr>\n",
       "      <th>3</th>\n",
       "      <td>1</td>\n",
       "      <td>202</td>\n",
       "      <td>9.0</td>\n",
       "    </tr>\n",
       "    <tr>\n",
       "      <th>4</th>\n",
       "      <td>1</td>\n",
       "      <td>6266</td>\n",
       "      <td>6.0</td>\n",
       "    </tr>\n",
       "  </tbody>\n",
       "</table>\n",
       "</div>"
      ],
      "text/plain": [
       "   UserID  MovieID  Rating\n",
       "0       1     6264     7.0\n",
       "1       1     4350     7.0\n",
       "2       1     6252     5.0\n",
       "3       1      202     9.0\n",
       "4       1     6266     6.0"
      ]
     },
     "execution_count": 20,
     "metadata": {},
     "output_type": "execute_result"
    }
   ],
   "source": [
    "ratings = pd.read_csv(ratings_file)\n",
    "ratings.head()"
   ]
  },
  {
   "cell_type": "code",
   "execution_count": 21,
   "id": "32cee1e3-b466-4914-b05b-48ec6f6acf71",
   "metadata": {},
   "outputs": [
    {
     "data": {
      "text/html": [
       "<div>\n",
       "<style scoped>\n",
       "    .dataframe tbody tr th:only-of-type {\n",
       "        vertical-align: middle;\n",
       "    }\n",
       "\n",
       "    .dataframe tbody tr th {\n",
       "        vertical-align: top;\n",
       "    }\n",
       "\n",
       "    .dataframe thead th {\n",
       "        text-align: right;\n",
       "    }\n",
       "</style>\n",
       "<table border=\"1\" class=\"dataframe\">\n",
       "  <thead>\n",
       "    <tr style=\"text-align: right;\">\n",
       "      <th></th>\n",
       "      <th>Gender</th>\n",
       "      <th>Age</th>\n",
       "      <th>UserID</th>\n",
       "    </tr>\n",
       "  </thead>\n",
       "  <tbody>\n",
       "    <tr>\n",
       "      <th>0</th>\n",
       "      <td>minneapolis, minnesota, usa</td>\n",
       "      <td>24</td>\n",
       "      <td>1</td>\n",
       "    </tr>\n",
       "    <tr>\n",
       "      <th>1</th>\n",
       "      <td>san diego, california, usa</td>\n",
       "      <td>20</td>\n",
       "      <td>2</td>\n",
       "    </tr>\n",
       "    <tr>\n",
       "      <th>2</th>\n",
       "      <td>novinger, missouri, usa</td>\n",
       "      <td>16</td>\n",
       "      <td>3</td>\n",
       "    </tr>\n",
       "    <tr>\n",
       "      <th>3</th>\n",
       "      <td>sonoma, california, usa</td>\n",
       "      <td>34</td>\n",
       "      <td>4</td>\n",
       "    </tr>\n",
       "    <tr>\n",
       "      <th>4</th>\n",
       "      <td>berkeley, california, usa</td>\n",
       "      <td>23</td>\n",
       "      <td>5</td>\n",
       "    </tr>\n",
       "  </tbody>\n",
       "</table>\n",
       "</div>"
      ],
      "text/plain": [
       "                        Gender  Age  UserID\n",
       "0  minneapolis, minnesota, usa   24       1\n",
       "1   san diego, california, usa   20       2\n",
       "2      novinger, missouri, usa   16       3\n",
       "3      sonoma, california, usa   34       4\n",
       "4    berkeley, california, usa   23       5"
      ]
     },
     "execution_count": 21,
     "metadata": {},
     "output_type": "execute_result"
    }
   ],
   "source": [
    "users = pd.read_csv(users_file)\n",
    "users.head()"
   ]
  },
  {
   "cell_type": "code",
   "execution_count": 22,
   "id": "eca3d5f7-822c-4078-9472-4b6fa5857209",
   "metadata": {},
   "outputs": [],
   "source": [
    "user_rating = pd.merge(users,ratings,on='UserID')\n",
    "user_rating_mv = pd.merge(user_rating, topics, left_on=\"MovieID\", right_on=\"ID\") "
   ]
  },
  {
   "cell_type": "code",
   "execution_count": 23,
   "id": "450f6886-dad0-426a-a24f-9c37db33c96a",
   "metadata": {},
   "outputs": [
    {
     "data": {
      "text/html": [
       "<div>\n",
       "<style scoped>\n",
       "    .dataframe tbody tr th:only-of-type {\n",
       "        vertical-align: middle;\n",
       "    }\n",
       "\n",
       "    .dataframe tbody tr th {\n",
       "        vertical-align: top;\n",
       "    }\n",
       "\n",
       "    .dataframe thead th {\n",
       "        text-align: right;\n",
       "    }\n",
       "</style>\n",
       "<table border=\"1\" class=\"dataframe\">\n",
       "  <thead>\n",
       "    <tr style=\"text-align: right;\">\n",
       "      <th></th>\n",
       "      <th>Gender</th>\n",
       "      <th>Age</th>\n",
       "      <th>UserID</th>\n",
       "      <th>MovieID</th>\n",
       "      <th>Rating</th>\n",
       "      <th>ID</th>\n",
       "      <th>NAME</th>\n",
       "      <th>CATEGORY</th>\n",
       "    </tr>\n",
       "  </thead>\n",
       "  <tbody>\n",
       "  </tbody>\n",
       "</table>\n",
       "</div>"
      ],
      "text/plain": [
       "Empty DataFrame\n",
       "Columns: [Gender, Age, UserID, MovieID, Rating, ID, NAME, CATEGORY]\n",
       "Index: []"
      ]
     },
     "execution_count": 23,
     "metadata": {},
     "output_type": "execute_result"
    }
   ],
   "source": [
    "user_rating_mv"
   ]
  },
  {
   "cell_type": "code",
   "execution_count": 8,
   "id": "2c9c4e18-b37d-4c18-b94f-89f9175b713e",
   "metadata": {},
   "outputs": [],
   "source": [
    "#df = pd.DataFrame().reset_index()\n",
    "\n",
    "top_movies = user_rating_mv[['UserID','Gender','Age', 'NAME']].groupby(['Gender','Age','NAME']).count().reset_index()"
   ]
  },
  {
   "cell_type": "code",
   "execution_count": 9,
   "id": "9ddd05f7-c7d9-42df-86e1-27ccbfab1804",
   "metadata": {},
   "outputs": [
    {
     "data": {
      "text/plain": [
       "24127                               American Beauty (1999)\n",
       "26955    Star Wars: Episode V - The Empire Strikes Back...\n",
       "27081                    Terminator 2: Judgment Day (1991)\n",
       "26954            Star Wars: Episode IV - A New Hope (1977)\n",
       "26956    Star Wars: Episode VI - Return of the Jedi (1983)\n",
       "25983                                   Matrix, The (1999)\n",
       "26721                           Saving Private Ryan (1998)\n",
       "26810                     Silence of the Lambs, The (1991)\n",
       "25687                                 Jurassic Park (1993)\n",
       "26011                                  Men in Black (1997)\n",
       "Name: NAME, dtype: object"
      ]
     },
     "execution_count": 9,
     "metadata": {},
     "output_type": "execute_result"
    }
   ],
   "source": [
    "df1 = top_movies.query('Gender==\"M\" & Age==\"25\"').sort_values('UserID', ascending=False)\n",
    "df1['NAME'].head(10)"
   ]
  },
  {
   "cell_type": "code",
   "execution_count": 10,
   "id": "30f71bc2-f3f0-4f0a-85d7-21c6ad780077",
   "metadata": {},
   "outputs": [],
   "source": [
    "def fetch_top_movies(age, gender):\n",
    "    global top_movies\n",
    "    qry = 'Gender==\"'+gender+'\" & Age==\"'+age+'\"'\n",
    "    df1 = top_movies.query(qry).sort_values('UserID', ascending=False)\n",
    "    return df1.head(10).NAME.to_list()"
   ]
  },
  {
   "cell_type": "code",
   "execution_count": 11,
   "id": "93e267dc-ba99-4fe4-959b-a0d3c4e0f192",
   "metadata": {
    "tags": []
   },
   "outputs": [
    {
     "name": "stdout",
     "output_type": "stream",
     "text": [
      "['American Beauty (1999)', 'Shakespeare in Love (1998)', 'Silence of the Lambs, The (1991)', 'Princess Bride, The (1987)', 'Fargo (1996)', 'Star Wars: Episode V - The Empire Strikes Back (1980)', 'Star Wars: Episode VI - Return of the Jedi (1983)', 'Being John Malkovich (1999)', 'Sixth Sense, The (1999)', 'Back to the Future (1985)']\n"
     ]
    }
   ],
   "source": [
    "print(fetch_top_movies('25','F'))"
   ]
  },
  {
   "cell_type": "code",
   "execution_count": 12,
   "id": "c82add48-4c18-409d-8db8-533b6ad0d2a1",
   "metadata": {},
   "outputs": [
    {
     "name": "stderr",
     "output_type": "stream",
     "text": [
      "/opt/conda/lib/python3.7/site-packages/_distutils_hack/__init__.py:33: UserWarning: Setuptools is replacing distutils.\n",
      "  warnings.warn(\"Setuptools is replacing distutils.\")\n"
     ]
    }
   ],
   "source": [
    "from mosaicml import *\n",
    "from mosaicml.constants import MLModelFlavours\n",
    "import numpy\n",
    "import pandas as pd\n",
    "\n",
    "@scoring_func\n",
    "def score(model, request):\n",
    "    payload = request.json[\"payload\"]\n",
    "    print(payload)     \n",
    "    global top_movies\n",
    "    qry = 'Gender==\"'+payload[\"gender\"]+'\" & Age==\"'+payload[\"age\"]+'\"'\n",
    "    df1 = top_movies.query(qry).sort_values('UserID', ascending=False)\n",
    "    return df1.head(10).NAME.to_list()\n",
    "    return prediction.tolist()"
   ]
  },
  {
   "cell_type": "code",
   "execution_count": 13,
   "id": "00248efa-b9d0-4b5c-8e12-3cc564305a0b",
   "metadata": {},
   "outputs": [
    {
     "data": {
      "application/vnd.jupyter.widget-view+json": {
       "model_id": "d584ccbb9e69403fafd2102a04104348",
       "version_major": 2,
       "version_minor": 0
      },
      "text/plain": [
       "VBox(children=(HTML(value='<style>.grad_1{background: #2468a4;} .grad_2{ color:white; background: #2468a4;}</s…"
      ]
     },
     "metadata": {},
     "output_type": "display_data"
    }
   ],
   "source": [
    "modl_ob = register_model(None, score, name=\"Trending_Topic\", \n",
    "                    description=\"Trending topics\",\n",
    "                    flavour=MLModelFlavours.sklearn)"
   ]
  },
  {
   "cell_type": "code",
   "execution_count": 17,
   "id": "505871b2-5b92-491c-b04e-4fc72086ec39",
   "metadata": {},
   "outputs": [
    {
     "name": "stdout",
     "output_type": "stream",
     "text": [
      "None\n"
     ]
    }
   ],
   "source": [
    "print(modl_ob)"
   ]
  },
  {
   "cell_type": "code",
   "execution_count": null,
   "id": "bed8fe9a-6ab8-4618-b039-3125bb6ca37b",
   "metadata": {},
   "outputs": [],
   "source": []
  }
 ],
 "metadata": {
  "kernelspec": {
   "display_name": "Python 3",
   "language": "python",
   "name": "python3"
  },
  "language_info": {
   "codemirror_mode": {
    "name": "ipython",
    "version": 3
   },
   "file_extension": ".py",
   "mimetype": "text/x-python",
   "name": "python",
   "nbconvert_exporter": "python",
   "pygments_lexer": "ipython3",
   "version": "3.7.12"
  }
 },
 "nbformat": 4,
 "nbformat_minor": 5
}
