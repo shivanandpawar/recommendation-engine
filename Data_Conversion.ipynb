{
 "cells": [
  {
   "cell_type": "code",
   "execution_count": 14,
   "id": "fea882bb",
   "metadata": {},
   "outputs": [
    {
     "name": "stderr",
     "output_type": "stream",
     "text": [
      "b'Skipping line 3: expected 10 fields, saw 11\\nSkipping line 7: expected 10 fields, saw 11\\nSkipping line 14: expected 10 fields, saw 11\\nSkipping line 43: expected 10 fields, saw 11\\nSkipping line 44: expected 10 fields, saw 11\\nSkipping line 64: expected 10 fields, saw 11\\nSkipping line 79: expected 10 fields, saw 11\\nSkipping line 106: expected 10 fields, saw 11\\nSkipping line 139: expected 10 fields, saw 11\\nSkipping line 171: expected 10 fields, saw 11\\nSkipping line 222: expected 10 fields, saw 11\\nSkipping line 237: expected 10 fields, saw 11\\nSkipping line 269: expected 10 fields, saw 11\\nSkipping line 272: expected 10 fields, saw 11\\nSkipping line 283: expected 10 fields, saw 11\\nSkipping line 291: expected 10 fields, saw 11\\nSkipping line 334: expected 10 fields, saw 11\\nSkipping line 340: expected 10 fields, saw 11\\nSkipping line 381: expected 10 fields, saw 11\\nSkipping line 420: expected 10 fields, saw 11\\nSkipping line 421: expected 10 fields, saw 11\\nSkipping line 422: expected 10 fields, saw 11\\nSkipping line 424: expected 10 fields, saw 11\\nSkipping line 441: expected 10 fields, saw 11\\nSkipping line 495: expected 10 fields, saw 11\\nSkipping line 506: expected 10 fields, saw 11\\nSkipping line 583: expected 10 fields, saw 11\\nSkipping line 597: expected 10 fields, saw 11\\nSkipping line 603: expected 10 fields, saw 11\\nSkipping line 611: expected 10 fields, saw 11\\nSkipping line 623: expected 10 fields, saw 11\\nSkipping line 625: expected 10 fields, saw 11\\nSkipping line 657: expected 10 fields, saw 11\\nSkipping line 669: expected 10 fields, saw 11\\nSkipping line 684: expected 10 fields, saw 11\\nSkipping line 687: expected 10 fields, saw 11\\nSkipping line 758: expected 10 fields, saw 11\\nSkipping line 811: expected 10 fields, saw 11\\nSkipping line 833: expected 10 fields, saw 11\\nSkipping line 874: expected 10 fields, saw 11\\nSkipping line 875: expected 10 fields, saw 11\\nSkipping line 885: expected 10 fields, saw 11\\nSkipping line 899: expected 10 fields, saw 11\\nSkipping line 905: expected 10 fields, saw 11\\nSkipping line 911: expected 10 fields, saw 11\\nSkipping line 931: expected 10 fields, saw 11\\nSkipping line 967: expected 10 fields, saw 11\\nSkipping line 971: expected 10 fields, saw 11\\nSkipping line 987: expected 10 fields, saw 11\\nSkipping line 989: expected 10 fields, saw 11\\nSkipping line 1019: expected 10 fields, saw 11\\nSkipping line 1044: expected 10 fields, saw 11\\nSkipping line 1047: expected 10 fields, saw 11\\nSkipping line 1079: expected 10 fields, saw 11\\nSkipping line 1081: expected 10 fields, saw 11\\nSkipping line 1091: expected 10 fields, saw 11\\nSkipping line 1098: expected 10 fields, saw 11\\nSkipping line 1100: expected 10 fields, saw 11\\nSkipping line 1106: expected 10 fields, saw 11\\nSkipping line 1129: expected 10 fields, saw 11\\nSkipping line 1139: expected 10 fields, saw 11\\nSkipping line 1201: expected 10 fields, saw 11\\nSkipping line 1216: expected 10 fields, saw 11\\nSkipping line 1247: expected 10 fields, saw 11\\nSkipping line 1252: expected 10 fields, saw 11\\nSkipping line 1255: expected 10 fields, saw 11\\nSkipping line 1293: expected 10 fields, saw 11\\nSkipping line 1300: expected 10 fields, saw 11\\nSkipping line 1301: expected 10 fields, saw 11\\nSkipping line 1312: expected 10 fields, saw 11\\nSkipping line 1532: expected 10 fields, saw 11\\nSkipping line 1545: expected 10 fields, saw 12\\nSkipping line 1554: expected 10 fields, saw 11\\nSkipping line 1565: expected 10 fields, saw 11\\nSkipping line 1571: expected 10 fields, saw 11\\nSkipping line 1593: expected 10 fields, saw 11\\nSkipping line 1604: expected 10 fields, saw 11\\nSkipping line 1610: expected 10 fields, saw 11\\nSkipping line 1624: expected 10 fields, saw 11\\nSkipping line 1635: expected 10 fields, saw 11\\nSkipping line 1643: expected 10 fields, saw 11\\nSkipping line 1644: expected 10 fields, saw 11\\nSkipping line 1730: expected 10 fields, saw 11\\nSkipping line 1734: expected 10 fields, saw 11\\nSkipping line 1747: expected 10 fields, saw 11\\nSkipping line 1753: expected 10 fields, saw 11\\nSkipping line 1758: expected 10 fields, saw 11\\nSkipping line 1766: expected 10 fields, saw 13\\nSkipping line 1768: expected 10 fields, saw 11\\nSkipping line 1778: expected 10 fields, saw 11\\nSkipping line 1788: expected 10 fields, saw 11\\nSkipping line 1791: expected 10 fields, saw 11\\nSkipping line 1843: expected 10 fields, saw 11\\nSkipping line 1868: expected 10 fields, saw 11\\nSkipping line 1880: expected 10 fields, saw 11\\nSkipping line 1885: expected 10 fields, saw 11\\nSkipping line 1969: expected 10 fields, saw 12\\nSkipping line 2012: expected 10 fields, saw 11\\nSkipping line 2086: expected 10 fields, saw 11\\nSkipping line 2093: expected 10 fields, saw 11\\nSkipping line 2108: expected 10 fields, saw 11\\nSkipping line 2117: expected 10 fields, saw 11\\nSkipping line 2123: expected 10 fields, saw 11\\nSkipping line 2127: expected 10 fields, saw 11\\nSkipping line 2151: expected 10 fields, saw 11\\nSkipping line 2170: expected 10 fields, saw 11\\nSkipping line 2171: expected 10 fields, saw 11\\nSkipping line 2177: expected 10 fields, saw 11\\nSkipping line 2208: expected 10 fields, saw 11\\nSkipping line 2211: expected 10 fields, saw 11\\nSkipping line 2221: expected 10 fields, saw 11\\nSkipping line 2232: expected 10 fields, saw 11\\nSkipping line 2235: expected 10 fields, saw 11\\nSkipping line 2284: expected 10 fields, saw 11\\nSkipping line 2297: expected 10 fields, saw 11\\nSkipping line 2343: expected 10 fields, saw 11\\nSkipping line 2383: expected 10 fields, saw 11\\nSkipping line 2402: expected 10 fields, saw 11\\nSkipping line 2407: expected 10 fields, saw 11\\nSkipping line 2412: expected 10 fields, saw 11\\nSkipping line 2414: expected 10 fields, saw 11\\nSkipping line 2425: expected 10 fields, saw 11\\nSkipping line 2436: expected 10 fields, saw 11\\nSkipping line 2437: expected 10 fields, saw 12\\nSkipping line 2438: expected 10 fields, saw 11\\nSkipping line 2454: expected 10 fields, saw 11\\nSkipping line 2457: expected 10 fields, saw 11\\nSkipping line 2484: expected 10 fields, saw 11\\nSkipping line 2485: expected 10 fields, saw 11\\nSkipping line 2487: expected 10 fields, saw 11\\nSkipping line 2498: expected 10 fields, saw 11\\nSkipping line 2511: expected 10 fields, saw 11\\nSkipping line 2518: expected 10 fields, saw 11\\nSkipping line 2525: expected 10 fields, saw 11\\nSkipping line 2562: expected 10 fields, saw 11\\nSkipping line 2570: expected 10 fields, saw 11\\nSkipping line 2583: expected 10 fields, saw 11\\nSkipping line 2618: expected 10 fields, saw 11\\nSkipping line 2623: expected 10 fields, saw 11\\nSkipping line 2671: expected 10 fields, saw 11\\nSkipping line 2717: expected 10 fields, saw 11\\nSkipping line 2755: expected 10 fields, saw 11\\nSkipping line 2756: expected 10 fields, saw 11\\nSkipping line 2766: expected 10 fields, saw 11\\nSkipping line 2771: expected 10 fields, saw 12\\nSkipping line 2779: expected 10 fields, saw 11\\nSkipping line 2853: expected 10 fields, saw 11\\nSkipping line 2906: expected 10 fields, saw 11\\nSkipping line 2997: expected 10 fields, saw 11\\nSkipping line 3005: expected 10 fields, saw 11\\nSkipping line 3048: expected 10 fields, saw 11\\nSkipping line 3049: expected 10 fields, saw 11\\nSkipping line 3081: expected 10 fields, saw 11\\nSkipping line 3103: expected 10 fields, saw 11\\nSkipping line 3117: expected 10 fields, saw 11\\nSkipping line 3146: expected 10 fields, saw 11\\nSkipping line 3159: expected 10 fields, saw 11\\nSkipping line 3175: expected 10 fields, saw 11\\nSkipping line 3203: expected 10 fields, saw 11\\nSkipping line 3206: expected 10 fields, saw 11\\nSkipping line 3208: expected 10 fields, saw 11\\nSkipping line 3211: expected 10 fields, saw 11\\nSkipping line 3223: expected 10 fields, saw 11\\nSkipping line 3276: expected 10 fields, saw 11\\nSkipping line 3295: expected 10 fields, saw 11\\nSkipping line 3323: expected 10 fields, saw 11\\nSkipping line 3336: expected 10 fields, saw 11\\nSkipping line 3354: expected 10 fields, saw 11\\nSkipping line 3363: expected 10 fields, saw 11\\nSkipping line 3364: expected 10 fields, saw 11\\nSkipping line 3384: expected 10 fields, saw 11\\nSkipping line 3394: expected 10 fields, saw 11\\nSkipping line 3417: expected 10 fields, saw 11\\nSkipping line 3432: expected 10 fields, saw 11\\nSkipping line 3468: expected 10 fields, saw 11\\nSkipping line 3516: expected 10 fields, saw 11\\nSkipping line 3522: expected 10 fields, saw 11\\nSkipping line 3537: expected 10 fields, saw 11\\nSkipping line 3544: expected 10 fields, saw 11\\nSkipping line 3545: expected 10 fields, saw 11\\nSkipping line 3562: expected 10 fields, saw 11\\nSkipping line 3699: expected 10 fields, saw 11\\nSkipping line 3700: expected 10 fields, saw 12\\nSkipping line 3715: expected 10 fields, saw 11\\nSkipping line 3741: expected 10 fields, saw 11\\nSkipping line 3751: expected 10 fields, saw 11\\nSkipping line 3757: expected 10 fields, saw 11\\nSkipping line 3760: expected 10 fields, saw 11\\nSkipping line 3802: expected 10 fields, saw 11\\nSkipping line 3860: expected 10 fields, saw 11\\nSkipping line 3869: expected 10 fields, saw 11\\nSkipping line 3878: expected 10 fields, saw 11\\nSkipping line 3907: expected 10 fields, saw 11\\nSkipping line 3910: expected 10 fields, saw 11\\nSkipping line 3919: expected 10 fields, saw 11\\nSkipping line 3996: expected 10 fields, saw 11\\nSkipping line 4019: expected 10 fields, saw 11\\nSkipping line 4028: expected 10 fields, saw 11\\nSkipping line 4053: expected 10 fields, saw 11\\nSkipping line 4131: expected 10 fields, saw 11\\nSkipping line 4144: expected 10 fields, saw 11\\nSkipping line 4161: expected 10 fields, saw 11\\nSkipping line 4173: expected 10 fields, saw 11\\nSkipping line 4179: expected 10 fields, saw 11\\nSkipping line 4185: expected 10 fields, saw 11\\nSkipping line 4189: expected 10 fields, saw 11\\nSkipping line 4207: expected 10 fields, saw 11\\nSkipping line 4210: expected 10 fields, saw 11\\nSkipping line 4230: expected 10 fields, saw 11\\nSkipping line 4246: expected 10 fields, saw 11\\nSkipping line 4251: expected 10 fields, saw 12\\nSkipping line 4252: expected 10 fields, saw 11\\nSkipping line 4262: expected 10 fields, saw 11\\nSkipping line 4270: expected 10 fields, saw 11\\nSkipping line 4309: expected 10 fields, saw 11\\nSkipping line 4410: expected 10 fields, saw 11\\nSkipping line 4423: expected 10 fields, saw 13\\nSkipping line 4454: expected 10 fields, saw 11\\nSkipping line 4460: expected 10 fields, saw 11\\nSkipping line 4512: expected 10 fields, saw 11\\nSkipping line 4522: expected 10 fields, saw 11\\nSkipping line 4537: expected 10 fields, saw 11\\nSkipping line 4597: expected 10 fields, saw 11\\nSkipping line 4655: expected 10 fields, saw 11\\nSkipping line 4684: expected 10 fields, saw 11\\nSkipping line 4687: expected 10 fields, saw 11\\nSkipping line 4690: expected 10 fields, saw 11\\nSkipping line 4707: expected 10 fields, saw 11\\nSkipping line 4722: expected 10 fields, saw 11\\nSkipping line 4739: expected 10 fields, saw 11\\nSkipping line 4740: expected 10 fields, saw 11\\nSkipping line 4745: expected 10 fields, saw 11\\nSkipping line 4751: expected 10 fields, saw 11\\nSkipping line 4783: expected 10 fields, saw 11\\nSkipping line 4824: expected 10 fields, saw 12\\nSkipping line 4855: expected 10 fields, saw 11\\nSkipping line 4860: expected 10 fields, saw 11\\nSkipping line 4887: expected 10 fields, saw 11\\nSkipping line 4888: expected 10 fields, saw 11\\nSkipping line 4894: expected 10 fields, saw 11\\nSkipping line 4913: expected 10 fields, saw 11\\nSkipping line 5000: expected 10 fields, saw 11\\nSkipping line 5045: expected 10 fields, saw 11\\nSkipping line 5052: expected 10 fields, saw 11\\nSkipping line 5075: expected 10 fields, saw 11\\nSkipping line 5092: expected 10 fields, saw 11\\nSkipping line 5100: expected 10 fields, saw 11\\nSkipping line 5105: expected 10 fields, saw 11\\nSkipping line 5111: expected 10 fields, saw 11\\nSkipping line 5124: expected 10 fields, saw 11\\nSkipping line 5136: expected 10 fields, saw 11\\nSkipping line 5150: expected 10 fields, saw 11\\nSkipping line 5175: expected 10 fields, saw 11\\nSkipping line 5185: expected 10 fields, saw 11\\nSkipping line 5194: expected 10 fields, saw 11\\nSkipping line 5212: expected 10 fields, saw 11\\nSkipping line 5218: expected 10 fields, saw 11\\nSkipping line 5271: expected 10 fields, saw 11\\nSkipping line 5288: expected 10 fields, saw 11\\nSkipping line 5297: expected 10 fields, saw 11\\nSkipping line 5301: expected 10 fields, saw 11\\nSkipping line 5332: expected 10 fields, saw 11\\nSkipping line 5373: expected 10 fields, saw 11\\nSkipping line 5406: expected 10 fields, saw 11\\nSkipping line 5437: expected 10 fields, saw 11\\nSkipping line 5455: expected 10 fields, saw 11\\nSkipping line 5489: expected 10 fields, saw 11\\nSkipping line 5493: expected 10 fields, saw 11\\nSkipping line 5503: expected 10 fields, saw 11\\nSkipping line 5507: expected 10 fields, saw 11\\nSkipping line 5520: expected 10 fields, saw 11\\nSkipping line 5528: expected 10 fields, saw 12\\nSkipping line 5556: expected 10 fields, saw 11\\nSkipping line 5576: expected 10 fields, saw 11\\nSkipping line 5578: expected 10 fields, saw 11\\nSkipping line 5583: expected 10 fields, saw 11\\nSkipping line 5586: expected 10 fields, saw 11\\nSkipping line 5596: expected 10 fields, saw 11\\nSkipping line 5609: expected 10 fields, saw 11\\nSkipping line 5617: expected 10 fields, saw 11\\nSkipping line 5621: expected 10 fields, saw 11\\nSkipping line 5628: expected 10 fields, saw 11\\nSkipping line 5638: expected 10 fields, saw 11\\nSkipping line 5676: expected 10 fields, saw 11\\nSkipping line 5723: expected 10 fields, saw 11\\nSkipping line 5737: expected 10 fields, saw 11\\nSkipping line 5757: expected 10 fields, saw 11\\nSkipping line 5776: expected 10 fields, saw 11\\nSkipping line 5778: expected 10 fields, saw 11\\nSkipping line 5789: expected 10 fields, saw 11\\nSkipping line 5807: expected 10 fields, saw 11\\nSkipping line 5815: expected 10 fields, saw 11\\nSkipping line 5837: expected 10 fields, saw 11\\nSkipping line 5845: expected 10 fields, saw 11\\nSkipping line 5885: expected 10 fields, saw 11\\nSkipping line 5886: expected 10 fields, saw 11\\nSkipping line 5923: expected 10 fields, saw 11\\nSkipping line 6006: expected 10 fields, saw 11\\nSkipping line 6011: expected 10 fields, saw 11\\nSkipping line 6026: expected 10 fields, saw 11\\nSkipping line 6042: expected 10 fields, saw 11\\nSkipping line 6084: expected 10 fields, saw 11\\nSkipping line 6086: expected 10 fields, saw 11\\nSkipping line 6093: expected 10 fields, saw 11\\nSkipping line 6127: expected 10 fields, saw 11\\nSkipping line 6128: expected 10 fields, saw 11\\nSkipping line 6129: expected 10 fields, saw 11\\nSkipping line 6134: expected 10 fields, saw 11\\nSkipping line 6137: expected 10 fields, saw 11\\nSkipping line 6141: expected 10 fields, saw 11\\nSkipping line 6151: expected 10 fields, saw 11\\nSkipping line 6172: expected 10 fields, saw 11\\nSkipping line 6186: expected 10 fields, saw 14\\nSkipping line 6191: expected 10 fields, saw 11\\nSkipping line 6202: expected 10 fields, saw 11\\nSkipping line 6206: expected 10 fields, saw 11\\nSkipping line 6256: expected 10 fields, saw 11\\nSkipping line 6471: expected 10 fields, saw 11\\nSkipping line 6511: expected 10 fields, saw 11\\nSkipping line 6514: expected 10 fields, saw 11\\nSkipping line 6544: expected 10 fields, saw 11\\nSkipping line 6554: expected 10 fields, saw 11\\nSkipping line 6576: expected 10 fields, saw 11\\nSkipping line 6589: expected 10 fields, saw 11\\nSkipping line 6594: expected 10 fields, saw 11\\nSkipping line 6595: expected 10 fields, saw 11\\nSkipping line 6612: expected 10 fields, saw 11\\nSkipping line 6618: expected 10 fields, saw 11\\nSkipping line 6647: expected 10 fields, saw 11\\nSkipping line 6655: expected 10 fields, saw 11\\nSkipping line 6657: expected 10 fields, saw 11\\nSkipping line 6662: expected 10 fields, saw 11\\nSkipping line 6672: expected 10 fields, saw 11\\nSkipping line 6687: expected 10 fields, saw 11\\nSkipping line 6703: expected 10 fields, saw 11\\nSkipping line 6720: expected 10 fields, saw 11\\nSkipping line 6731: expected 10 fields, saw 11\\nSkipping line 6732: expected 10 fields, saw 11\\nSkipping line 6736: expected 10 fields, saw 11\\nSkipping line 6740: expected 10 fields, saw 11\\nSkipping line 6743: expected 10 fields, saw 11\\nSkipping line 6756: expected 10 fields, saw 11\\nSkipping line 6780: expected 10 fields, saw 11\\nSkipping line 6793: expected 10 fields, saw 11\\nSkipping line 6838: expected 10 fields, saw 11\\nSkipping line 6849: expected 10 fields, saw 11\\nSkipping line 6861: expected 10 fields, saw 11\\nSkipping line 6867: expected 10 fields, saw 11\\nSkipping line 6921: expected 10 fields, saw 11\\nSkipping line 6925: expected 10 fields, saw 11\\nSkipping line 6932: expected 10 fields, saw 11\\nSkipping line 6943: expected 10 fields, saw 11\\nSkipping line 6986: expected 10 fields, saw 11\\nSkipping line 6991: expected 10 fields, saw 11\\nSkipping line 7006: expected 10 fields, saw 11\\nSkipping line 7011: expected 10 fields, saw 11\\nSkipping line 7026: expected 10 fields, saw 11\\nSkipping line 7045: expected 10 fields, saw 11\\nSkipping line 7061: expected 10 fields, saw 11\\nSkipping line 7064: expected 10 fields, saw 11\\nSkipping line 7066: expected 10 fields, saw 11\\nSkipping line 7067: expected 10 fields, saw 11\\nSkipping line 7074: expected 10 fields, saw 11\\nSkipping line 7085: expected 10 fields, saw 11\\nSkipping line 7136: expected 10 fields, saw 11\\nSkipping line 7153: expected 10 fields, saw 11\\nSkipping line 7162: expected 10 fields, saw 11\\nSkipping line 7184: expected 10 fields, saw 11\\nSkipping line 7255: expected 10 fields, saw 11\\nSkipping line 7261: expected 10 fields, saw 11\\nSkipping line 7282: expected 10 fields, saw 11\\nSkipping line 7298: expected 10 fields, saw 11\\nSkipping line 7301: expected 10 fields, saw 11\\nSkipping line 7303: expected 10 fields, saw 11\\nSkipping line 7307: expected 10 fields, saw 11\\nSkipping line 7313: expected 10 fields, saw 11\\nSkipping line 7323: expected 10 fields, saw 11\\nSkipping line 7328: expected 10 fields, saw 11\\nSkipping line 7336: expected 10 fields, saw 11\\nSkipping line 7338: expected 10 fields, saw 11\\nSkipping line 7346: expected 10 fields, saw 11\\nSkipping line 7354: expected 10 fields, saw 11\\nSkipping line 7390: expected 10 fields, saw 11\\nSkipping line 7414: expected 10 fields, saw 11\\nSkipping line 7417: expected 10 fields, saw 11\\nSkipping line 7435: expected 10 fields, saw 11\\nSkipping line 7437: expected 10 fields, saw 11\\nSkipping line 7476: expected 10 fields, saw 11\\nSkipping line 7496: expected 10 fields, saw 11\\nSkipping line 7514: expected 10 fields, saw 11\\nSkipping line 7519: expected 10 fields, saw 11\\nSkipping line 7524: expected 10 fields, saw 11\\nSkipping line 7580: expected 10 fields, saw 11\\nSkipping line 7614: expected 10 fields, saw 11\\nSkipping line 7654: expected 10 fields, saw 11\\nSkipping line 7666: expected 10 fields, saw 11\\nSkipping line 7668: expected 10 fields, saw 11\\nSkipping line 7674: expected 10 fields, saw 11\\nSkipping line 7708: expected 10 fields, saw 11\\nSkipping line 7717: expected 10 fields, saw 11\\nSkipping line 7718: expected 10 fields, saw 11\\nSkipping line 7719: expected 10 fields, saw 11\\nSkipping line 7720: expected 10 fields, saw 12\\nSkipping line 7729: expected 10 fields, saw 11\\nSkipping line 7819: expected 10 fields, saw 11\\nSkipping line 7852: expected 10 fields, saw 11\\nSkipping line 7854: expected 10 fields, saw 13\\nSkipping line 7859: expected 10 fields, saw 11\\nSkipping line 7869: expected 10 fields, saw 11\\nSkipping line 7885: expected 10 fields, saw 11\\nSkipping line 7888: expected 10 fields, saw 11\\nSkipping line 7912: expected 10 fields, saw 11\\nSkipping line 7914: expected 10 fields, saw 11\\nSkipping line 7976: expected 10 fields, saw 11\\nSkipping line 7987: expected 10 fields, saw 12\\nSkipping line 8018: expected 10 fields, saw 11\\nSkipping line 8020: expected 10 fields, saw 11\\nSkipping line 8028: expected 10 fields, saw 11\\nSkipping line 8054: expected 10 fields, saw 11\\nSkipping line 8068: expected 10 fields, saw 11\\nSkipping line 8114: expected 10 fields, saw 11\\nSkipping line 8118: expected 10 fields, saw 11\\nSkipping line 8120: expected 10 fields, saw 11\\nSkipping line 8124: expected 10 fields, saw 11\\nSkipping line 8135: expected 10 fields, saw 11\\nSkipping line 8145: expected 10 fields, saw 11\\nSkipping line 8188: expected 10 fields, saw 11\\nSkipping line 8189: expected 10 fields, saw 11\\nSkipping line 8239: expected 10 fields, saw 11\\nSkipping line 8301: expected 10 fields, saw 11\\nSkipping line 8332: expected 10 fields, saw 11\\nSkipping line 8335: expected 10 fields, saw 11\\nSkipping line 8392: expected 10 fields, saw 11\\nSkipping line 8406: expected 10 fields, saw 11\\nSkipping line 8414: expected 10 fields, saw 11\\nSkipping line 8513: expected 10 fields, saw 11\\nSkipping line 8518: expected 10 fields, saw 11\\nSkipping line 8526: expected 10 fields, saw 11\\nSkipping line 8533: expected 10 fields, saw 11\\nSkipping line 8536: expected 10 fields, saw 11\\nSkipping line 8591: expected 10 fields, saw 11\\nSkipping line 8608: expected 10 fields, saw 11\\nSkipping line 8658: expected 10 fields, saw 11\\nSkipping line 8659: expected 10 fields, saw 11\\nSkipping line 8660: expected 10 fields, saw 11\\nSkipping line 8664: expected 10 fields, saw 11\\nSkipping line 8670: expected 10 fields, saw 11\\nSkipping line 8687: expected 10 fields, saw 11\\nSkipping line 8710: expected 10 fields, saw 11\\nSkipping line 8729: expected 10 fields, saw 11\\nSkipping line 8767: expected 10 fields, saw 11\\nSkipping line 8777: expected 10 fields, saw 11\\nSkipping line 8784: expected 10 fields, saw 11\\nSkipping line 8802: expected 10 fields, saw 11\\nSkipping line 8882: expected 10 fields, saw 11\\nSkipping line 8898: expected 10 fields, saw 12\\nSkipping line 8924: expected 10 fields, saw 11\\nSkipping line 8960: expected 10 fields, saw 11\\nSkipping line 8969: expected 10 fields, saw 11\\nSkipping line 8997: expected 10 fields, saw 11\\nSkipping line 9125: expected 10 fields, saw 11\\nSkipping line 9157: expected 10 fields, saw 11\\nSkipping line 9166: expected 10 fields, saw 11\\nSkipping line 9168: expected 10 fields, saw 11\\nSkipping line 9192: expected 10 fields, saw 11\\nSkipping line 9195: expected 10 fields, saw 11\\nSkipping line 9198: expected 10 fields, saw 11\\nSkipping line 9256: expected 10 fields, saw 11\\nSkipping line 9281: expected 10 fields, saw 11\\nSkipping line 9336: expected 10 fields, saw 11\\nSkipping line 9340: expected 10 fields, saw 11\\nSkipping line 9360: expected 10 fields, saw 11\\nSkipping line 9400: expected 10 fields, saw 11\\nSkipping line 9468: expected 10 fields, saw 11\\nSkipping line 9470: expected 10 fields, saw 11\\nSkipping line 9481: expected 10 fields, saw 11\\nSkipping line 9484: expected 10 fields, saw 11\\nSkipping line 9536: expected 10 fields, saw 11\\nSkipping line 9563: expected 10 fields, saw 11\\nSkipping line 9574: expected 10 fields, saw 11\\nSkipping line 9758: expected 10 fields, saw 11\\nSkipping line 9786: expected 10 fields, saw 11\\nSkipping line 9837: expected 10 fields, saw 11\\nSkipping line 9838: expected 10 fields, saw 12\\nSkipping line 9839: expected 10 fields, saw 11\\nSkipping line 9842: expected 10 fields, saw 11\\nSkipping line 9872: expected 10 fields, saw 11\\nSkipping line 9894: expected 10 fields, saw 11\\nSkipping line 9906: expected 10 fields, saw 11\\nSkipping line 9909: expected 10 fields, saw 11\\nSkipping line 9912: expected 10 fields, saw 11\\nSkipping line 9916: expected 10 fields, saw 11\\nSkipping line 9929: expected 10 fields, saw 11\\nSkipping line 9940: expected 10 fields, saw 11\\nSkipping line 9956: expected 10 fields, saw 11\\nSkipping line 9970: expected 10 fields, saw 11\\nSkipping line 10009: expected 10 fields, saw 11\\nSkipping line 10012: expected 10 fields, saw 11\\nSkipping line 10013: expected 10 fields, saw 11\\nSkipping line 10062: expected 10 fields, saw 11\\nSkipping line 10090: expected 10 fields, saw 11\\nSkipping line 10098: expected 10 fields, saw 11\\nSkipping line 10100: expected 10 fields, saw 11\\nSkipping line 10111: expected 10 fields, saw 11\\nSkipping line 10117: expected 10 fields, saw 11\\nSkipping line 10131: expected 10 fields, saw 11\\nSkipping line 10160: expected 10 fields, saw 11\\nSkipping line 10206: expected 10 fields, saw 11\\nSkipping line 10221: expected 10 fields, saw 11\\nSkipping line 10227: expected 10 fields, saw 11\\nSkipping line 10249: expected 10 fields, saw 11\\nSkipping line 10255: expected 10 fields, saw 11\\nSkipping line 10281: expected 10 fields, saw 11\\nSkipping line 10311: expected 10 fields, saw 11\\nSkipping line 10328: expected 10 fields, saw 11\\nSkipping line 10352: expected 10 fields, saw 11\\nSkipping line 10363: expected 10 fields, saw 11\\nSkipping line 10371: expected 10 fields, saw 11\\nSkipping line 10434: expected 10 fields, saw 11\\nSkipping line 10466: expected 10 fields, saw 11\\nSkipping line 10484: expected 10 fields, saw 11\\nSkipping line 10505: expected 10 fields, saw 11\\nSkipping line 10506: expected 10 fields, saw 11\\nSkipping line 10571: expected 10 fields, saw 11\\nSkipping line 10574: expected 10 fields, saw 11\\nSkipping line 10582: expected 10 fields, saw 11\\nSkipping line 10585: expected 10 fields, saw 11\\nSkipping line 10628: expected 10 fields, saw 11\\nSkipping line 10632: expected 10 fields, saw 11\\nSkipping line 10638: expected 10 fields, saw 11\\nSkipping line 10646: expected 10 fields, saw 11\\nSkipping line 10651: expected 10 fields, saw 11\\nSkipping line 10671: expected 10 fields, saw 11\\nSkipping line 10673: expected 10 fields, saw 11\\nSkipping line 10686: expected 10 fields, saw 11\\nSkipping line 10757: expected 10 fields, saw 12\\nSkipping line 10760: expected 10 fields, saw 11\\nSkipping line 10764: expected 10 fields, saw 11\\nSkipping line 10766: expected 10 fields, saw 11\\nSkipping line 10789: expected 10 fields, saw 12\\nSkipping line 10808: expected 10 fields, saw 11\\nSkipping line 10820: expected 10 fields, saw 11\\nSkipping line 10829: expected 10 fields, saw 11\\nSkipping line 10845: expected 10 fields, saw 11\\nSkipping line 10855: expected 10 fields, saw 11\\nSkipping line 10868: expected 10 fields, saw 11\\nSkipping line 10874: expected 10 fields, saw 11\\nSkipping line 10883: expected 10 fields, saw 11\\nSkipping line 10901: expected 10 fields, saw 11\\nSkipping line 10932: expected 10 fields, saw 11\\nSkipping line 10938: expected 10 fields, saw 11\\nSkipping line 10985: expected 10 fields, saw 11\\nSkipping line 10989: expected 10 fields, saw 11\\nSkipping line 11003: expected 10 fields, saw 11\\nSkipping line 11006: expected 10 fields, saw 11\\nSkipping line 11015: expected 10 fields, saw 11\\nSkipping line 11017: expected 10 fields, saw 11\\nSkipping line 11024: expected 10 fields, saw 11\\nSkipping line 11027: expected 10 fields, saw 11\\nSkipping line 11043: expected 10 fields, saw 11\\nSkipping line 11077: expected 10 fields, saw 11\\nSkipping line 11089: expected 10 fields, saw 11\\nSkipping line 11135: expected 10 fields, saw 11\\nSkipping line 11150: expected 10 fields, saw 11\\nSkipping line 11155: expected 10 fields, saw 11\\nSkipping line 11158: expected 10 fields, saw 11\\nSkipping line 11175: expected 10 fields, saw 11\\nSkipping line 11223: expected 10 fields, saw 11\\nSkipping line 11247: expected 10 fields, saw 11\\nSkipping line 11288: expected 10 fields, saw 11\\nSkipping line 11298: expected 10 fields, saw 12\\nSkipping line 11325: expected 10 fields, saw 11\\nSkipping line 11334: expected 10 fields, saw 11\\nSkipping line 11340: expected 10 fields, saw 11\\nSkipping line 11355: expected 10 fields, saw 11\\nSkipping line 11356: expected 10 fields, saw 11\\nSkipping line 11367: expected 10 fields, saw 11\\nSkipping line 11375: expected 10 fields, saw 11\\nSkipping line 11377: expected 10 fields, saw 11\\nSkipping line 11385: expected 10 fields, saw 11\\nSkipping line 11400: expected 10 fields, saw 11\\nSkipping line 11416: expected 10 fields, saw 11\\nSkipping line 11422: expected 10 fields, saw 11\\nSkipping line 11436: expected 10 fields, saw 11\\nSkipping line 11439: expected 10 fields, saw 11\\nSkipping line 11481: expected 10 fields, saw 12\\nSkipping line 11495: expected 10 fields, saw 11\\nSkipping line 11506: expected 10 fields, saw 11\\nSkipping line 11552: expected 10 fields, saw 11\\nSkipping line 11553: expected 10 fields, saw 11\\nSkipping line 11556: expected 10 fields, saw 11\\nSkipping line 11562: expected 10 fields, saw 11\\nSkipping line 11578: expected 10 fields, saw 11\\nSkipping line 11601: expected 10 fields, saw 11\\nSkipping line 11607: expected 10 fields, saw 11\\nSkipping line 11616: expected 10 fields, saw 11\\nSkipping line 11626: expected 10 fields, saw 11\\nSkipping line 11672: expected 10 fields, saw 11\\nSkipping line 11679: expected 10 fields, saw 11\\nSkipping line 11683: expected 10 fields, saw 11\\nSkipping line 11739: expected 10 fields, saw 11\\nSkipping line 11741: expected 10 fields, saw 11\\nSkipping line 11749: expected 10 fields, saw 11\\nSkipping line 11751: expected 10 fields, saw 11\\nSkipping line 11759: expected 10 fields, saw 11\\nSkipping line 11760: expected 10 fields, saw 11\\nSkipping line 11770: expected 10 fields, saw 11\\nSkipping line 11784: expected 10 fields, saw 11\\nSkipping line 11815: expected 10 fields, saw 11\\nSkipping line 11816: expected 10 fields, saw 11\\nSkipping line 11820: expected 10 fields, saw 11\\nSkipping line 11845: expected 10 fields, saw 11\\nSkipping line 11852: expected 10 fields, saw 11\\nSkipping line 11857: expected 10 fields, saw 11\\nSkipping line 11859: expected 10 fields, saw 11\\nSkipping line 11862: expected 10 fields, saw 11\\nSkipping line 11863: expected 10 fields, saw 11\\nSkipping line 11870: expected 10 fields, saw 11\\nSkipping line 11906: expected 10 fields, saw 11\\nSkipping line 11907: expected 10 fields, saw 11\\nSkipping line 11914: expected 10 fields, saw 11\\nSkipping line 11942: expected 10 fields, saw 11\\nSkipping line 11950: expected 10 fields, saw 11\\nSkipping line 11978: expected 10 fields, saw 11\\nSkipping line 12020: expected 10 fields, saw 11\\nSkipping line 12037: expected 10 fields, saw 11\\nSkipping line 12047: expected 10 fields, saw 11\\nSkipping line 12053: expected 10 fields, saw 11\\nSkipping line 12057: expected 10 fields, saw 11\\nSkipping line 12083: expected 10 fields, saw 11\\nSkipping line 12101: expected 10 fields, saw 11\\nSkipping line 12112: expected 10 fields, saw 11\\nSkipping line 12125: expected 10 fields, saw 11\\nSkipping line 12138: expected 10 fields, saw 11\\nSkipping line 12146: expected 10 fields, saw 11\\nSkipping line 12151: expected 10 fields, saw 11\\nSkipping line 12157: expected 10 fields, saw 11\\nSkipping line 12160: expected 10 fields, saw 12\\nSkipping line 12166: expected 10 fields, saw 11\\nSkipping line 12201: expected 10 fields, saw 11\\nSkipping line 12213: expected 10 fields, saw 11\\nSkipping line 12216: expected 10 fields, saw 11\\nSkipping line 12228: expected 10 fields, saw 11\\nSkipping line 12237: expected 10 fields, saw 11\\nSkipping line 12290: expected 10 fields, saw 11\\nSkipping line 12305: expected 10 fields, saw 11\\nSkipping line 12315: expected 10 fields, saw 11\\nSkipping line 12320: expected 10 fields, saw 11\\nSkipping line 12321: expected 10 fields, saw 11\\nSkipping line 12341: expected 10 fields, saw 11\\nSkipping line 12367: expected 10 fields, saw 11\\nSkipping line 12372: expected 10 fields, saw 11\\nSkipping line 12380: expected 10 fields, saw 11\\nSkipping line 12414: expected 10 fields, saw 11\\nSkipping line 12438: expected 10 fields, saw 11\\nSkipping line 12445: expected 10 fields, saw 11\\nSkipping line 12454: expected 10 fields, saw 11\\nSkipping line 12479: expected 10 fields, saw 11\\nSkipping line 12481: expected 10 fields, saw 11\\nSkipping line 12544: expected 10 fields, saw 11\\nSkipping line 12551: expected 10 fields, saw 11\\nSkipping line 12556: expected 10 fields, saw 11\\nSkipping line 12564: expected 10 fields, saw 11\\nSkipping line 12570: expected 10 fields, saw 11\\nSkipping line 12581: expected 10 fields, saw 11\\nSkipping line 12587: expected 10 fields, saw 12\\nSkipping line 12610: expected 10 fields, saw 11\\nSkipping line 12642: expected 10 fields, saw 11\\nSkipping line 12659: expected 10 fields, saw 11\\nSkipping line 12661: expected 10 fields, saw 11\\nSkipping line 12662: expected 10 fields, saw 12\\nSkipping line 12665: expected 10 fields, saw 11\\nSkipping line 12667: expected 10 fields, saw 11\\nSkipping line 12668: expected 10 fields, saw 11\\nSkipping line 12676: expected 10 fields, saw 11\\nSkipping line 12700: expected 10 fields, saw 11\\nSkipping line 12768: expected 10 fields, saw 11\\nSkipping line 12770: expected 10 fields, saw 11\\nSkipping line 12808: expected 10 fields, saw 12\\nSkipping line 12809: expected 10 fields, saw 11\\nSkipping line 12835: expected 10 fields, saw 12\\nSkipping line 12855: expected 10 fields, saw 11\\nSkipping line 12949: expected 10 fields, saw 11\\nSkipping line 12976: expected 10 fields, saw 13\\nSkipping line 12983: expected 10 fields, saw 11\\nSkipping line 13009: expected 10 fields, saw 11\\nSkipping line 13053: expected 10 fields, saw 11\\nSkipping line 13087: expected 10 fields, saw 11\\nSkipping line 13093: expected 10 fields, saw 11\\nSkipping line 13095: expected 10 fields, saw 12\\nSkipping line 13104: expected 10 fields, saw 11\\nSkipping line 13112: expected 10 fields, saw 11\\nSkipping line 13114: expected 10 fields, saw 11\\nSkipping line 13156: expected 10 fields, saw 11\\nSkipping line 13218: expected 10 fields, saw 11\\nSkipping line 13222: expected 10 fields, saw 11\\nSkipping line 13228: expected 10 fields, saw 11\\nSkipping line 13241: expected 10 fields, saw 11\\nSkipping line 13254: expected 10 fields, saw 11\\nSkipping line 13269: expected 10 fields, saw 11\\nSkipping line 13294: expected 10 fields, saw 11\\nSkipping line 13299: expected 10 fields, saw 11\\nSkipping line 13314: expected 10 fields, saw 11\\nSkipping line 13338: expected 10 fields, saw 11\\nSkipping line 13363: expected 10 fields, saw 12\\nSkipping line 13395: expected 10 fields, saw 11\\nSkipping line 13414: expected 10 fields, saw 11\\nSkipping line 13427: expected 10 fields, saw 11\\nSkipping line 13442: expected 10 fields, saw 11\\nSkipping line 13446: expected 10 fields, saw 11\\nSkipping line 13448: expected 10 fields, saw 11\\nSkipping line 13453: expected 10 fields, saw 11\\nSkipping line 13455: expected 10 fields, saw 11\\nSkipping line 13461: expected 10 fields, saw 11\\nSkipping line 13479: expected 10 fields, saw 11\\nSkipping line 13502: expected 10 fields, saw 11\\nSkipping line 13516: expected 10 fields, saw 11\\nSkipping line 13538: expected 10 fields, saw 11\\nSkipping line 13550: expected 10 fields, saw 11\\nSkipping line 13551: expected 10 fields, saw 11\\nSkipping line 13580: expected 10 fields, saw 11\\nSkipping line 13643: expected 10 fields, saw 11\\nSkipping line 13686: expected 10 fields, saw 11\\nSkipping line 13694: expected 10 fields, saw 11\\nSkipping line 13695: expected 10 fields, saw 11\\nSkipping line 13704: expected 10 fields, saw 11\\nSkipping line 13751: expected 10 fields, saw 11\\nSkipping line 13761: expected 10 fields, saw 11\\nSkipping line 13779: expected 10 fields, saw 11\\nSkipping line 13818: expected 10 fields, saw 11\\nSkipping line 13835: expected 10 fields, saw 11\\nSkipping line 13840: expected 10 fields, saw 11\\nSkipping line 13853: expected 10 fields, saw 11\\nSkipping line 13858: expected 10 fields, saw 11\\nSkipping line 13865: expected 10 fields, saw 11\\nSkipping line 13866: expected 10 fields, saw 11\\nSkipping line 13871: expected 10 fields, saw 11\\nSkipping line 13876: expected 10 fields, saw 11\\nSkipping line 13880: expected 10 fields, saw 11\\nSkipping line 13897: expected 10 fields, saw 11\\nSkipping line 13903: expected 10 fields, saw 11\\nSkipping line 13904: expected 10 fields, saw 11\\nSkipping line 13905: expected 10 fields, saw 11\\nSkipping line 13914: expected 10 fields, saw 11\\nSkipping line 13952: expected 10 fields, saw 11\\nSkipping line 13956: expected 10 fields, saw 11\\nSkipping line 13959: expected 10 fields, saw 12\\nSkipping line 14094: expected 10 fields, saw 11\\nSkipping line 14104: expected 10 fields, saw 11\\nSkipping line 14106: expected 10 fields, saw 11\\nSkipping line 14116: expected 10 fields, saw 11\\nSkipping line 14118: expected 10 fields, saw 11\\nSkipping line 14133: expected 10 fields, saw 11\\nSkipping line 14139: expected 10 fields, saw 11\\nSkipping line 14152: expected 10 fields, saw 12\\nSkipping line 14161: expected 10 fields, saw 11\\nSkipping line 14168: expected 10 fields, saw 11\\nSkipping line 14186: expected 10 fields, saw 11\\nSkipping line 14201: expected 10 fields, saw 11\\nSkipping line 14246: expected 10 fields, saw 11\\nSkipping line 14307: expected 10 fields, saw 11\\nSkipping line 14319: expected 10 fields, saw 11\\nSkipping line 14324: expected 10 fields, saw 12\\nSkipping line 14407: expected 10 fields, saw 11\\nSkipping line 14432: expected 10 fields, saw 11\\nSkipping line 14454: expected 10 fields, saw 12\\nSkipping line 14473: expected 10 fields, saw 11\\nSkipping line 14478: expected 10 fields, saw 11\\nSkipping line 14514: expected 10 fields, saw 11\\nSkipping line 14576: expected 10 fields, saw 11\\nSkipping line 14583: expected 10 fields, saw 11\\nSkipping line 14624: expected 10 fields, saw 11\\nSkipping line 14629: expected 10 fields, saw 11\\nSkipping line 14632: expected 10 fields, saw 11\\nSkipping line 14639: expected 10 fields, saw 11\\nSkipping line 14647: expected 10 fields, saw 11\\nSkipping line 14668: expected 10 fields, saw 11\\nSkipping line 14678: expected 10 fields, saw 12\\nSkipping line 14683: expected 10 fields, saw 11\\nSkipping line 14685: expected 10 fields, saw 11\\nSkipping line 14687: expected 10 fields, saw 11\\nSkipping line 14738: expected 10 fields, saw 11\\nSkipping line 14739: expected 10 fields, saw 11\\nSkipping line 14761: expected 10 fields, saw 11\\nSkipping line 14789: expected 10 fields, saw 11\\nSkipping line 14790: expected 10 fields, saw 11\\nSkipping line 14794: expected 10 fields, saw 11\\nSkipping line 14806: expected 10 fields, saw 11\\nSkipping line 14808: expected 10 fields, saw 11\\nSkipping line 14821: expected 10 fields, saw 11\\nSkipping line 14832: expected 10 fields, saw 11\\nSkipping line 14895: expected 10 fields, saw 11\\nSkipping line 14913: expected 10 fields, saw 11\\nSkipping line 14925: expected 10 fields, saw 11\\nSkipping line 14953: expected 10 fields, saw 11\\nSkipping line 14963: expected 10 fields, saw 11\\nSkipping line 14976: expected 10 fields, saw 11\\nSkipping line 14991: expected 10 fields, saw 11\\nSkipping line 14993: expected 10 fields, saw 11\\nSkipping line 14995: expected 10 fields, saw 11\\nSkipping line 14996: expected 10 fields, saw 11\\nSkipping line 15000: expected 10 fields, saw 11\\nSkipping line 15007: expected 10 fields, saw 11\\nSkipping line 15053: expected 10 fields, saw 11\\nSkipping line 15065: expected 10 fields, saw 11\\nSkipping line 15066: expected 10 fields, saw 11\\nSkipping line 15086: expected 10 fields, saw 11\\nSkipping line 15093: expected 10 fields, saw 11\\nSkipping line 15109: expected 10 fields, saw 11\\nSkipping line 15116: expected 10 fields, saw 11\\nSkipping line 15124: expected 10 fields, saw 11\\nSkipping line 15132: expected 10 fields, saw 11\\nSkipping line 15146: expected 10 fields, saw 11\\nSkipping line 15151: expected 10 fields, saw 11\\nSkipping line 15160: expected 10 fields, saw 11\\nSkipping line 15164: expected 10 fields, saw 11\\nSkipping line 15169: expected 10 fields, saw 11\\nSkipping line 15210: expected 10 fields, saw 11\\nSkipping line 15227: expected 10 fields, saw 11\\nSkipping line 15229: expected 10 fields, saw 11\\nSkipping line 15232: expected 10 fields, saw 11\\nSkipping line 15234: expected 10 fields, saw 11\\nSkipping line 15235: expected 10 fields, saw 11\\nSkipping line 15243: expected 10 fields, saw 11\\nSkipping line 15244: expected 10 fields, saw 11\\nSkipping line 15268: expected 10 fields, saw 11\\nSkipping line 15280: expected 10 fields, saw 11\\nSkipping line 15296: expected 10 fields, saw 11\\nSkipping line 15307: expected 10 fields, saw 11\\nSkipping line 15330: expected 10 fields, saw 11\\nSkipping line 15358: expected 10 fields, saw 11\\nSkipping line 15370: expected 10 fields, saw 11\\nSkipping line 15375: expected 10 fields, saw 11\\nSkipping line 15377: expected 10 fields, saw 11\\nSkipping line 15392: expected 10 fields, saw 11\\nSkipping line 15393: expected 10 fields, saw 11\\nSkipping line 15410: expected 10 fields, saw 11\\nSkipping line 15413: expected 10 fields, saw 11\\nSkipping line 15414: expected 10 fields, saw 11\\nSkipping line 15419: expected 10 fields, saw 11\\nSkipping line 15431: expected 10 fields, saw 11\\nSkipping line 15436: expected 10 fields, saw 11\\nSkipping line 15447: expected 10 fields, saw 11\\nSkipping line 15448: expected 10 fields, saw 11\\nSkipping line 15461: expected 10 fields, saw 11\\nSkipping line 15463: expected 10 fields, saw 11\\nSkipping line 15503: expected 10 fields, saw 11\\nSkipping line 15526: expected 10 fields, saw 11\\nSkipping line 15536: expected 10 fields, saw 11\\nSkipping line 15572: expected 10 fields, saw 11\\nSkipping line 15585: expected 10 fields, saw 11\\nSkipping line 15590: expected 10 fields, saw 11\\nSkipping line 15592: expected 10 fields, saw 11\\nSkipping line 15603: expected 10 fields, saw 11\\nSkipping line 15627: expected 10 fields, saw 11\\nSkipping line 15635: expected 10 fields, saw 11\\nSkipping line 15671: expected 10 fields, saw 11\\nSkipping line 15690: expected 10 fields, saw 11\\nSkipping line 15713: expected 10 fields, saw 11\\nSkipping line 15718: expected 10 fields, saw 11\\nSkipping line 15758: expected 10 fields, saw 11\\nSkipping line 15778: expected 10 fields, saw 11\\nSkipping line 15802: expected 10 fields, saw 11\\nSkipping line 15817: expected 10 fields, saw 11\\nSkipping line 15821: expected 10 fields, saw 11\\nSkipping line 15834: expected 10 fields, saw 11\\nSkipping line 15854: expected 10 fields, saw 11\\nSkipping line 15863: expected 10 fields, saw 11\\nSkipping line 15866: expected 10 fields, saw 11\\nSkipping line 15909: expected 10 fields, saw 12\\nSkipping line 15920: expected 10 fields, saw 11\\nSkipping line 15929: expected 10 fields, saw 11\\nSkipping line 15940: expected 10 fields, saw 11\\nSkipping line 15942: expected 10 fields, saw 11\\nSkipping line 15943: expected 10 fields, saw 11\\nSkipping line 15948: expected 10 fields, saw 11\\nSkipping line 15952: expected 10 fields, saw 11\\nSkipping line 15964: expected 10 fields, saw 11\\nSkipping line 16060: expected 10 fields, saw 11\\nSkipping line 16062: expected 10 fields, saw 11\\nSkipping line 16065: expected 10 fields, saw 11\\nSkipping line 16091: expected 10 fields, saw 11\\nSkipping line 16099: expected 10 fields, saw 11\\nSkipping line 16104: expected 10 fields, saw 11\\nSkipping line 16114: expected 10 fields, saw 11\\nSkipping line 16125: expected 10 fields, saw 12\\nSkipping line 16138: expected 10 fields, saw 11\\nSkipping line 16157: expected 10 fields, saw 11\\nSkipping line 16163: expected 10 fields, saw 11\\nSkipping line 16164: expected 10 fields, saw 11\\nSkipping line 16168: expected 10 fields, saw 11\\nSkipping line 16170: expected 10 fields, saw 11\\nSkipping line 16201: expected 10 fields, saw 11\\nSkipping line 16215: expected 10 fields, saw 11\\nSkipping line 16223: expected 10 fields, saw 11\\nSkipping line 16227: expected 10 fields, saw 11\\nSkipping line 16237: expected 10 fields, saw 11\\nSkipping line 16253: expected 10 fields, saw 11\\nSkipping line 16288: expected 10 fields, saw 11\\nSkipping line 16326: expected 10 fields, saw 11\\nSkipping line 16354: expected 10 fields, saw 11\\nSkipping line 16360: expected 10 fields, saw 11\\nSkipping line 16367: expected 10 fields, saw 11\\nSkipping line 16408: expected 10 fields, saw 11\\nSkipping line 16414: expected 10 fields, saw 11\\nSkipping line 16438: expected 10 fields, saw 11\\nSkipping line 16439: expected 10 fields, saw 11\\nSkipping line 16452: expected 10 fields, saw 11\\nSkipping line 16460: expected 10 fields, saw 11\\nSkipping line 16498: expected 10 fields, saw 11\\nSkipping line 16502: expected 10 fields, saw 11\\nSkipping line 16510: expected 10 fields, saw 11\\nSkipping line 16538: expected 10 fields, saw 11\\nSkipping line 16539: expected 10 fields, saw 11\\nSkipping line 16569: expected 10 fields, saw 11\\nSkipping line 16582: expected 10 fields, saw 11\\nSkipping line 16599: expected 10 fields, saw 11\\nSkipping line 16618: expected 10 fields, saw 11\\nSkipping line 16623: expected 10 fields, saw 11\\nSkipping line 16652: expected 10 fields, saw 11\\nSkipping line 16654: expected 10 fields, saw 11\\nSkipping line 16674: expected 10 fields, saw 11\\nSkipping line 16685: expected 10 fields, saw 11\\nSkipping line 16688: expected 10 fields, saw 11\\nSkipping line 16707: expected 10 fields, saw 11\\nSkipping line 16738: expected 10 fields, saw 11\\nSkipping line 16742: expected 10 fields, saw 11\\nSkipping line 16751: expected 10 fields, saw 11\\nSkipping line 16752: expected 10 fields, saw 11\\nSkipping line 16795: expected 10 fields, saw 11\\nSkipping line 16799: expected 10 fields, saw 11\\nSkipping line 16805: expected 10 fields, saw 11\\nSkipping line 16868: expected 10 fields, saw 11\\nSkipping line 16873: expected 10 fields, saw 11\\nSkipping line 16878: expected 10 fields, saw 11\\nSkipping line 16879: expected 10 fields, saw 11\\nSkipping line 16882: expected 10 fields, saw 11\\nSkipping line 16897: expected 10 fields, saw 11\\nSkipping line 16900: expected 10 fields, saw 11\\nSkipping line 16905: expected 10 fields, saw 12\\nSkipping line 16928: expected 10 fields, saw 11\\nSkipping line 16929: expected 10 fields, saw 11\\nSkipping line 16934: expected 10 fields, saw 11\\nSkipping line 16935: expected 10 fields, saw 11\\nSkipping line 16944: expected 10 fields, saw 11\\nSkipping line 16945: expected 10 fields, saw 11\\nSkipping line 16960: expected 10 fields, saw 11\\nSkipping line 16968: expected 10 fields, saw 11\\nSkipping line 16973: expected 10 fields, saw 11\\nSkipping line 16993: expected 10 fields, saw 11\\nSkipping line 16997: expected 10 fields, saw 11\\nSkipping line 17007: expected 10 fields, saw 11\\nSkipping line 17039: expected 10 fields, saw 11\\nSkipping line 17044: expected 10 fields, saw 11\\nSkipping line 17047: expected 10 fields, saw 11\\nSkipping line 17063: expected 10 fields, saw 11\\nSkipping line 17070: expected 10 fields, saw 11\\nSkipping line 17095: expected 10 fields, saw 11\\nSkipping line 17114: expected 10 fields, saw 11\\nSkipping line 17126: expected 10 fields, saw 11\\nSkipping line 17133: expected 10 fields, saw 11\\nSkipping line 17150: expected 10 fields, saw 11\\nSkipping line 17164: expected 10 fields, saw 11\\nSkipping line 17231: expected 10 fields, saw 11\\nSkipping line 17248: expected 10 fields, saw 11\\nSkipping line 17251: expected 10 fields, saw 11\\nSkipping line 17270: expected 10 fields, saw 11\\nSkipping line 17290: expected 10 fields, saw 11\\nSkipping line 17294: expected 10 fields, saw 11\\nSkipping line 17305: expected 10 fields, saw 11\\nSkipping line 17338: expected 10 fields, saw 11\\nSkipping line 17344: expected 10 fields, saw 11\\nSkipping line 17376: expected 10 fields, saw 11\\n'\n"
     ]
    }
   ],
   "source": [
    "import pandas as pd\n",
    "df = pd.read_csv(\"/data/book_crossing/book_crossing/items_info.dat\", sep=\"\\t\", error_bad_lines=False)"
   ]
  },
  {
   "cell_type": "code",
   "execution_count": 18,
   "id": "1ccbbb33-8736-4a19-a89f-edf5980475f9",
   "metadata": {},
   "outputs": [
    {
     "data": {
      "text/html": [
       "<div>\n",
       "<style scoped>\n",
       "    .dataframe tbody tr th:only-of-type {\n",
       "        vertical-align: middle;\n",
       "    }\n",
       "\n",
       "    .dataframe tbody tr th {\n",
       "        vertical-align: top;\n",
       "    }\n",
       "\n",
       "    .dataframe thead th {\n",
       "        text-align: right;\n",
       "    }\n",
       "</style>\n",
       "<table border=\"1\" class=\"dataframe\">\n",
       "  <thead>\n",
       "    <tr style=\"text-align: right;\">\n",
       "      <th></th>\n",
       "      <th>Book_ID</th>\n",
       "      <th>Book-Title</th>\n",
       "      <th>ISBN</th>\n",
       "    </tr>\n",
       "  </thead>\n",
       "  <tbody>\n",
       "    <tr>\n",
       "      <th>1</th>\n",
       "      <td>0060973129</td>\n",
       "      <td>Carlo D'Este</td>\n",
       "      <td>Decision in Normandy</td>\n",
       "    </tr>\n",
       "    <tr>\n",
       "      <th>3</th>\n",
       "      <td>0425176428</td>\n",
       "      <td>Robert Cowley</td>\n",
       "      <td>What If?: The World's Foremost Military Histor...</td>\n",
       "    </tr>\n",
       "    <tr>\n",
       "      <th>4</th>\n",
       "      <td>0452264464</td>\n",
       "      <td>Toni Morrison</td>\n",
       "      <td>Beloved (Plume Contemporary Fiction)</td>\n",
       "    </tr>\n",
       "    <tr>\n",
       "      <th>5</th>\n",
       "      <td>0609804618</td>\n",
       "      <td>The Onion</td>\n",
       "      <td>Our Dumb Century: The Onion Presents 100 Years...</td>\n",
       "    </tr>\n",
       "    <tr>\n",
       "      <th>7</th>\n",
       "      <td>1879384493</td>\n",
       "      <td>J. R. Parrish</td>\n",
       "      <td>If I'd Known Then What I Know Now: Why Not Lea...</td>\n",
       "    </tr>\n",
       "  </tbody>\n",
       "</table>\n",
       "</div>"
      ],
      "text/plain": [
       "      Book_ID     Book-Title  \\\n",
       "1  0060973129   Carlo D'Este   \n",
       "3  0425176428  Robert Cowley   \n",
       "4  0452264464  Toni Morrison   \n",
       "5  0609804618      The Onion   \n",
       "7  1879384493  J. R. Parrish   \n",
       "\n",
       "                                                ISBN  \n",
       "1                               Decision in Normandy  \n",
       "3  What If?: The World's Foremost Military Histor...  \n",
       "4               Beloved (Plume Contemporary Fiction)  \n",
       "5  Our Dumb Century: The Onion Presents 100 Years...  \n",
       "7  If I'd Known Then What I Know Now: Why Not Lea...  "
      ]
     },
     "execution_count": 18,
     "metadata": {},
     "output_type": "execute_result"
    }
   ],
   "source": [
    "topic = df[[\"Book_ID\", \"Book-Title\", \"ISBN\"]]\n",
    "topis.rename(columns = {'Book_ID' : 'ID', 'Book-Title' : 'NAME', })\n",
    "topic.head()"
   ]
  },
  {
   "cell_type": "code",
   "execution_count": 12,
   "id": "025ca654",
   "metadata": {},
   "outputs": [
    {
     "data": {
      "text/html": [
       "<div>\n",
       "<style scoped>\n",
       "    .dataframe tbody tr th:only-of-type {\n",
       "        vertical-align: middle;\n",
       "    }\n",
       "\n",
       "    .dataframe tbody tr th {\n",
       "        vertical-align: top;\n",
       "    }\n",
       "\n",
       "    .dataframe thead th {\n",
       "        text-align: right;\n",
       "    }\n",
       "</style>\n",
       "<table border=\"1\" class=\"dataframe\">\n",
       "  <thead>\n",
       "    <tr style=\"text-align: right;\">\n",
       "      <th></th>\n",
       "      <th>ID</th>\n",
       "      <th>NAME</th>\n",
       "      <th>CATEGORY</th>\n",
       "    </tr>\n",
       "  </thead>\n",
       "  <tbody>\n",
       "    <tr>\n",
       "      <th>0</th>\n",
       "      <td>1</td>\n",
       "      <td>Toy Story (1995)</td>\n",
       "      <td>Animation|Children's|Comedy</td>\n",
       "    </tr>\n",
       "    <tr>\n",
       "      <th>1</th>\n",
       "      <td>2</td>\n",
       "      <td>Jumanji (1995)</td>\n",
       "      <td>Adventure|Children's|Fantasy</td>\n",
       "    </tr>\n",
       "    <tr>\n",
       "      <th>2</th>\n",
       "      <td>3</td>\n",
       "      <td>Grumpier Old Men (1995)</td>\n",
       "      <td>Comedy|Romance</td>\n",
       "    </tr>\n",
       "    <tr>\n",
       "      <th>3</th>\n",
       "      <td>4</td>\n",
       "      <td>Waiting to Exhale (1995)</td>\n",
       "      <td>Comedy|Drama</td>\n",
       "    </tr>\n",
       "    <tr>\n",
       "      <th>4</th>\n",
       "      <td>5</td>\n",
       "      <td>Father of the Bride Part II (1995)</td>\n",
       "      <td>Comedy</td>\n",
       "    </tr>\n",
       "  </tbody>\n",
       "</table>\n",
       "</div>"
      ],
      "text/plain": [
       "   ID                                NAME                      CATEGORY\n",
       "0   1                    Toy Story (1995)   Animation|Children's|Comedy\n",
       "1   2                      Jumanji (1995)  Adventure|Children's|Fantasy\n",
       "2   3             Grumpier Old Men (1995)                Comedy|Romance\n",
       "3   4            Waiting to Exhale (1995)                  Comedy|Drama\n",
       "4   5  Father of the Bride Part II (1995)                        Comedy"
      ]
     },
     "execution_count": 12,
     "metadata": {},
     "output_type": "execute_result"
    }
   ],
   "source": [
    "df.head()"
   ]
  },
  {
   "cell_type": "code",
   "execution_count": 15,
   "id": "a10034c2",
   "metadata": {},
   "outputs": [],
   "source": [
    "df.to_csv(\"/data/movie_data/movies.csv\", index=False)"
   ]
  },
  {
   "cell_type": "code",
   "execution_count": 31,
   "id": "ef657e03",
   "metadata": {},
   "outputs": [
    {
     "name": "stderr",
     "output_type": "stream",
     "text": [
      "/opt/conda/lib/python3.7/site-packages/ipykernel_launcher.py:2: ParserWarning: Falling back to the 'python' engine because the 'c' engine does not support regex separators (separators > 1 char and different from '\\s+' are interpreted as regex); you can avoid this warning by specifying engine='python'.\n",
      "  \n"
     ]
    }
   ],
   "source": [
    "import pandas as pd\n",
    "df = pd.read_csv(\"/data/ml-1m/ml-1m/users.dat\", sep=\"::\", names=[\"UserID\",\"Gender\",\"Age\",\"Occupation\",\"Zip-code\"])"
   ]
  },
  {
   "cell_type": "code",
   "execution_count": 32,
   "id": "388f391c",
   "metadata": {},
   "outputs": [
    {
     "data": {
      "text/html": [
       "<div>\n",
       "<style scoped>\n",
       "    .dataframe tbody tr th:only-of-type {\n",
       "        vertical-align: middle;\n",
       "    }\n",
       "\n",
       "    .dataframe tbody tr th {\n",
       "        vertical-align: top;\n",
       "    }\n",
       "\n",
       "    .dataframe thead th {\n",
       "        text-align: right;\n",
       "    }\n",
       "</style>\n",
       "<table border=\"1\" class=\"dataframe\">\n",
       "  <thead>\n",
       "    <tr style=\"text-align: right;\">\n",
       "      <th></th>\n",
       "      <th>UserID</th>\n",
       "      <th>Gender</th>\n",
       "      <th>Age</th>\n",
       "      <th>Occupation</th>\n",
       "      <th>Zip-code</th>\n",
       "    </tr>\n",
       "  </thead>\n",
       "  <tbody>\n",
       "    <tr>\n",
       "      <th>0</th>\n",
       "      <td>1</td>\n",
       "      <td>F</td>\n",
       "      <td>1</td>\n",
       "      <td>10</td>\n",
       "      <td>48067</td>\n",
       "    </tr>\n",
       "    <tr>\n",
       "      <th>1</th>\n",
       "      <td>2</td>\n",
       "      <td>M</td>\n",
       "      <td>56</td>\n",
       "      <td>16</td>\n",
       "      <td>70072</td>\n",
       "    </tr>\n",
       "    <tr>\n",
       "      <th>2</th>\n",
       "      <td>3</td>\n",
       "      <td>M</td>\n",
       "      <td>25</td>\n",
       "      <td>15</td>\n",
       "      <td>55117</td>\n",
       "    </tr>\n",
       "    <tr>\n",
       "      <th>3</th>\n",
       "      <td>4</td>\n",
       "      <td>M</td>\n",
       "      <td>45</td>\n",
       "      <td>7</td>\n",
       "      <td>02460</td>\n",
       "    </tr>\n",
       "    <tr>\n",
       "      <th>4</th>\n",
       "      <td>5</td>\n",
       "      <td>M</td>\n",
       "      <td>25</td>\n",
       "      <td>20</td>\n",
       "      <td>55455</td>\n",
       "    </tr>\n",
       "  </tbody>\n",
       "</table>\n",
       "</div>"
      ],
      "text/plain": [
       "   UserID Gender  Age  Occupation Zip-code\n",
       "0       1      F    1          10    48067\n",
       "1       2      M   56          16    70072\n",
       "2       3      M   25          15    55117\n",
       "3       4      M   45           7    02460\n",
       "4       5      M   25          20    55455"
      ]
     },
     "execution_count": 32,
     "metadata": {},
     "output_type": "execute_result"
    }
   ],
   "source": [
    "df.head()"
   ]
  },
  {
   "cell_type": "code",
   "execution_count": 33,
   "id": "8ee255cf",
   "metadata": {},
   "outputs": [],
   "source": [
    "df.to_csv(\"/data/movie_data/users.csv\", index=False)"
   ]
  },
  {
   "cell_type": "code",
   "execution_count": 34,
   "id": "06efab1e",
   "metadata": {},
   "outputs": [
    {
     "name": "stderr",
     "output_type": "stream",
     "text": [
      "/opt/conda/lib/python3.7/site-packages/ipykernel_launcher.py:2: ParserWarning: Falling back to the 'python' engine because the 'c' engine does not support regex separators (separators > 1 char and different from '\\s+' are interpreted as regex); you can avoid this warning by specifying engine='python'.\n",
      "  \n"
     ]
    },
    {
     "data": {
      "text/html": [
       "<div>\n",
       "<style scoped>\n",
       "    .dataframe tbody tr th:only-of-type {\n",
       "        vertical-align: middle;\n",
       "    }\n",
       "\n",
       "    .dataframe tbody tr th {\n",
       "        vertical-align: top;\n",
       "    }\n",
       "\n",
       "    .dataframe thead th {\n",
       "        text-align: right;\n",
       "    }\n",
       "</style>\n",
       "<table border=\"1\" class=\"dataframe\">\n",
       "  <thead>\n",
       "    <tr style=\"text-align: right;\">\n",
       "      <th></th>\n",
       "      <th>UserID</th>\n",
       "      <th>MovieID</th>\n",
       "      <th>Rating</th>\n",
       "      <th>Timestamp</th>\n",
       "    </tr>\n",
       "  </thead>\n",
       "  <tbody>\n",
       "    <tr>\n",
       "      <th>0</th>\n",
       "      <td>1</td>\n",
       "      <td>1193</td>\n",
       "      <td>5</td>\n",
       "      <td>978300760</td>\n",
       "    </tr>\n",
       "    <tr>\n",
       "      <th>1</th>\n",
       "      <td>1</td>\n",
       "      <td>661</td>\n",
       "      <td>3</td>\n",
       "      <td>978302109</td>\n",
       "    </tr>\n",
       "    <tr>\n",
       "      <th>2</th>\n",
       "      <td>1</td>\n",
       "      <td>914</td>\n",
       "      <td>3</td>\n",
       "      <td>978301968</td>\n",
       "    </tr>\n",
       "    <tr>\n",
       "      <th>3</th>\n",
       "      <td>1</td>\n",
       "      <td>3408</td>\n",
       "      <td>4</td>\n",
       "      <td>978300275</td>\n",
       "    </tr>\n",
       "    <tr>\n",
       "      <th>4</th>\n",
       "      <td>1</td>\n",
       "      <td>2355</td>\n",
       "      <td>5</td>\n",
       "      <td>978824291</td>\n",
       "    </tr>\n",
       "  </tbody>\n",
       "</table>\n",
       "</div>"
      ],
      "text/plain": [
       "   UserID  MovieID  Rating  Timestamp\n",
       "0       1     1193       5  978300760\n",
       "1       1      661       3  978302109\n",
       "2       1      914       3  978301968\n",
       "3       1     3408       4  978300275\n",
       "4       1     2355       5  978824291"
      ]
     },
     "execution_count": 34,
     "metadata": {},
     "output_type": "execute_result"
    }
   ],
   "source": [
    "import pandas as pd\n",
    "df = pd.read_csv(\"/data/ml-1m/ml-1m/ratings.dat\", sep=\"::\", names=[\"UserID\",\"MovieID\",\"Rating\",\"Timestamp\"])\n",
    "df.head()"
   ]
  },
  {
   "cell_type": "code",
   "execution_count": 35,
   "id": "cb150634",
   "metadata": {},
   "outputs": [],
   "source": [
    "df.to_csv(\"/data/movie_data/rating.csv\", index=False)"
   ]
  },
  {
   "cell_type": "code",
   "execution_count": null,
   "id": "81009eb6",
   "metadata": {},
   "outputs": [],
   "source": []
  }
 ],
 "metadata": {
  "kernelspec": {
   "display_name": "Python 3",
   "language": "python",
   "name": "python3"
  },
  "language_info": {
   "codemirror_mode": {
    "name": "ipython",
    "version": 3
   },
   "file_extension": ".py",
   "mimetype": "text/x-python",
   "name": "python",
   "nbconvert_exporter": "python",
   "pygments_lexer": "ipython3",
   "version": "3.7.12"
  }
 },
 "nbformat": 4,
 "nbformat_minor": 5
}
